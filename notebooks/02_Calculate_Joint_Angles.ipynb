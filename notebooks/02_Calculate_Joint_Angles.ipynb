{
  "nbformat": 4,
  "nbformat_minor": 0,
  "metadata": {
    "colab": {
      "provenance": [],
      "authorship_tag": "ABX9TyNtJf+bE1tYvreKjZckrqX2",
      "include_colab_link": true
    },
    "kernelspec": {
      "name": "python3",
      "display_name": "Python 3"
    },
    "language_info": {
      "name": "python"
    }
  },
  "cells": [
    {
      "cell_type": "markdown",
      "metadata": {
        "id": "view-in-github",
        "colab_type": "text"
      },
      "source": [
        "<a href=\"https://colab.research.google.com/github/JRKagumba/2D-video-based-exercise-classification/blob/main/notebooks/02_Calculate_Joint_Angles.ipynb\" target=\"_parent\"><img src=\"https://colab.research.google.com/assets/colab-badge.svg\" alt=\"Open In Colab\"/></a>"
      ]
    },
    {
      "cell_type": "markdown",
      "source": [
        "### Mount Drive"
      ],
      "metadata": {
        "id": "pTIAOHePatBl"
      }
    },
    {
      "cell_type": "code",
      "execution_count": 1,
      "metadata": {
        "colab": {
          "base_uri": "https://localhost:8080/"
        },
        "id": "ipTWnmofalDG",
        "outputId": "a31f85cb-6ba0-44c5-8250-0c3ac5458c00"
      },
      "outputs": [
        {
          "output_type": "stream",
          "name": "stdout",
          "text": [
            "Mounted at /content/gdrive\n"
          ]
        }
      ],
      "source": [
        "from google.colab import drive\n",
        "drive.mount('/content/gdrive')"
      ]
    },
    {
      "cell_type": "markdown",
      "source": [
        "### Import Libraries"
      ],
      "metadata": {
        "id": "BCCCmG-Daxoz"
      }
    },
    {
      "cell_type": "code",
      "source": [
        "import pandas as pd\n",
        "import numpy as np\n",
        "import os\n",
        "\n",
        "from scipy.signal import find_peaks\n",
        "\n",
        "import matplotlib.pyplot as plt\n",
        "import matplotlib.ticker as ticker "
      ],
      "metadata": {
        "id": "K-bGdFFGazkF"
      },
      "execution_count": 2,
      "outputs": []
    },
    {
      "cell_type": "markdown",
      "source": [
        "### Initialize Helper Functions"
      ],
      "metadata": {
        "id": "MB1W4qjsbthr"
      }
    },
    {
      "cell_type": "code",
      "source": [
        "def get_angle(A: str, B: str, C: str, orientation: str, df: pd.DataFrame) -> np.ndarray:\n",
        "    \"\"\"\n",
        "    B is the target joint angle\n",
        "\n",
        "    A and C     - keypoint trajectories required to calculate B\n",
        "    orientation - can be either L or R\n",
        "    df          - dataframe with keypoint trajectories\n",
        "    \"\"\"\n",
        "\n",
        "    point_A = np.array([df[f'{orientation}{A}_X'],df[f'{orientation}{A}_Y']]).T\n",
        "    point_B = np.array([df[f'{orientation}{B}_X'],df[f'{orientation}{B}_Y']]).T\n",
        "    point_C = np.array([df[f'{orientation}{C}_X'],df[f'{orientation}{C}_Y']]).T\n",
        "\n",
        "    len_AB = point_A - point_B\n",
        "    len_CB = point_C - point_B\n",
        "\n",
        "    dot_products = np.sum(len_AB*len_CB,axis=1)\n",
        "    norm_products = np.linalg.norm(len_AB,axis=1)*np.linalg.norm(len_CB,axis=1)\n",
        "\n",
        "    joint_angle = np.arccos(dot_products/norm_products)*(180/np.pi)\n",
        "\n",
        "    return joint_angle\n",
        "\n",
        "def create_joint_angle_dataframe_from_keypoints_dataframe(df):\n",
        "    \"\"\"\n",
        "    -Apply get_angle function to keypoints \n",
        "    -Create dataframe of joint angles\n",
        "    \"\"\"\n",
        "    JA_reference_dict = {\n",
        "            'ELB' : ['WRI','ELB','SHO'],\n",
        "            'SHO' : ['ELB','SHO','HIP'],\n",
        "            'HIP' : ['SHO','HIP','KNE'],\n",
        "            'KNE' : ['HIP','KNE','ANK']} \n",
        "\n",
        "    JA_dict_to_df = {}\n",
        "    for joint in JA_reference_dict:\n",
        "        A = JA_reference_dict[joint][0]\n",
        "        B = JA_reference_dict[joint][1]\n",
        "        C = JA_reference_dict[joint][2]\n",
        "\n",
        "        for orientation in ('L','R'):\n",
        "\n",
        "            JA_dict_to_df[f'{orientation}_{joint}']= pd.Series(get_angle(A, B, C, orientation, df))\n",
        "\n",
        "    return pd.DataFrame.from_dict(JA_dict_to_df)\n",
        "\n",
        "\n",
        "def save_major_JA_dataframe_as_array_of_subplots(df, plot_name, save_path):\n",
        "    fig, axs = plt.subplots(2, 4, figsize=(24,8), constrained_layout=True)\n",
        "\n",
        "    for ax, val in zip(axs.flat, df.columns):\n",
        "\n",
        "        ax.set_title(f'{val}')\n",
        "        ax.set_xlabel('Time (%)', fontsize=10)\n",
        "        ax.set_ylabel(r'Joint Angle $\\theta$ (deg)', fontsize=10)\n",
        "\n",
        "        ax.plot(df[val], label=val)\n",
        "        ax.legend()\n",
        "        ax.margins(x=0.01)\n",
        "        \n",
        "        ax.xaxis.set_major_locator(ticker.MultipleLocator(len(df)/5))\n",
        "        ax.xaxis.set_minor_locator(ticker.MultipleLocator(len(df)/20))\n",
        "        ax.xaxis.set_major_formatter(ticker.PercentFormatter(xmax=len(df)))\n",
        "\n",
        "    fig.suptitle(plot_name, fontsize=25)\n",
        "    plt.savefig(save_path)\n",
        "    plt.close(fig)"
      ],
      "metadata": {
        "id": "zlFsj1_JbxFC"
      },
      "execution_count": 3,
      "outputs": []
    },
    {
      "cell_type": "markdown",
      "source": [
        "### Save Joint Angle Data and Plots"
      ],
      "metadata": {
        "id": "is_GOXTCdsN6"
      }
    },
    {
      "cell_type": "code",
      "source": [
        "PROJ_SAVE_ROOT = os.path.join('/content/gdrive/MyDrive/ColabNotebooks/BiomechanicsAnalysis/___WORKOUTS/data/tests/processed')\n",
        "\n",
        "exercises_list = os.listdir(PROJ_SAVE_ROOT)\n",
        "\n",
        "for exercise_folder in exercises_list:\n",
        "    exercise_samples =  os.listdir(os.path.join(PROJ_SAVE_ROOT, exercise_folder))\n",
        "\n",
        "    print(exercise_folder)\n",
        "    for sample in exercise_samples:\n",
        "\n",
        "        print(f'\\t{sample}')\n",
        "\n",
        "        #Define paths\n",
        "        processed_data_path = os.path.join(PROJ_SAVE_ROOT, exercise_folder, sample, f'{sample}_data_processed.csv')\n",
        "        joint_angle_save_path = os.path.join(PROJ_SAVE_ROOT, exercise_folder, sample, f'{sample}_joint_angles.csv')\n",
        "        joint_angle_plot_save_path = os.path.join(PROJ_SAVE_ROOT, exercise_folder, sample, f'{sample}_joint_angles.png')\n",
        "\n",
        "        # Apply processing steps\n",
        "        df = pd.read_csv(processed_data_path, index_col=0)\n",
        "        major_JA_df = create_joint_angle_dataframe_from_keypoints_dataframe(df)\n",
        "\n",
        "        # Save data\n",
        "        df_to_be_saved = major_JA_df.dropna().reset_index(drop=True)\n",
        "        df_to_be_saved.to_csv(joint_angle_save_path)\n",
        "        print(f'\\t\\t{sample:20} processed data saved')\n",
        "\n",
        "        save_major_JA_dataframe_as_array_of_subplots(df, sample, joint_angle_plot_save_path)\n",
        "        print(f'\\t\\t{sample:20} plot saved')"
      ],
      "metadata": {
        "colab": {
          "base_uri": "https://localhost:8080/"
        },
        "id": "mQ6vI5Jsdr7D",
        "outputId": "c9b9a010-1b06-404d-c55e-66038c445912"
      },
      "execution_count": 6,
      "outputs": [
        {
          "output_type": "stream",
          "name": "stdout",
          "text": [
            "burpees_test\n",
            "\t01_burpees_test\n",
            "\t\t01_burpees_test      processed data saved\n",
            "\t\t01_burpees_test      plot saved\n",
            "\t02_burpees_test\n",
            "\t\t02_burpees_test      processed data saved\n",
            "\t\t02_burpees_test      plot saved\n",
            "\t03_burpees_test\n",
            "\t\t03_burpees_test      processed data saved\n",
            "\t\t03_burpees_test      plot saved\n",
            "\t04_burpees_test\n",
            "\t\t04_burpees_test      processed data saved\n",
            "\t\t04_burpees_test      plot saved\n",
            "\t05_burpees_test\n",
            "\t\t05_burpees_test      processed data saved\n",
            "\t\t05_burpees_test      plot saved\n",
            "\t06_burpees_test\n",
            "\t\t06_burpees_test      processed data saved\n",
            "\t\t06_burpees_test      plot saved\n",
            "\t07_burpees_test\n",
            "\t\t07_burpees_test      processed data saved\n",
            "\t\t07_burpees_test      plot saved\n",
            "\t08_burpees_test\n",
            "\t\t08_burpees_test      processed data saved\n",
            "\t\t08_burpees_test      plot saved\n",
            "jumping_jacks_test\n",
            "\t01_jumping_jacks_test\n",
            "\t\t01_jumping_jacks_test processed data saved\n",
            "\t\t01_jumping_jacks_test plot saved\n",
            "\t02_jumping_jacks_test\n",
            "\t\t02_jumping_jacks_test processed data saved\n",
            "\t\t02_jumping_jacks_test plot saved\n",
            "\t03_jumping_jacks_test\n",
            "\t\t03_jumping_jacks_test processed data saved\n",
            "\t\t03_jumping_jacks_test plot saved\n",
            "other_test\n",
            "\t01_other_test\n",
            "\t\t01_other_test        processed data saved\n",
            "\t\t01_other_test        plot saved\n",
            "\t04_other_test\n",
            "\t\t04_other_test        processed data saved\n",
            "\t\t04_other_test        plot saved\n",
            "\t02_other_test\n",
            "\t\t02_other_test        processed data saved\n",
            "\t\t02_other_test        plot saved\n",
            "\t03_other_test\n",
            "\t\t03_other_test        processed data saved\n",
            "\t\t03_other_test        plot saved\n",
            "\t05_other_test\n",
            "\t\t05_other_test        processed data saved\n",
            "\t\t05_other_test        plot saved\n",
            "pushups_test\n",
            "\t01_pushups_test\n",
            "\t\t01_pushups_test      processed data saved\n",
            "\t\t01_pushups_test      plot saved\n",
            "\t02_pushups_test\n",
            "\t\t02_pushups_test      processed data saved\n",
            "\t\t02_pushups_test      plot saved\n",
            "\t03_pushups_test\n",
            "\t\t03_pushups_test      processed data saved\n",
            "\t\t03_pushups_test      plot saved\n",
            "squats_test\n",
            "\t01_squats_test\n",
            "\t\t01_squats_test       processed data saved\n",
            "\t\t01_squats_test       plot saved\n",
            "\t02_squats_test\n",
            "\t\t02_squats_test       processed data saved\n",
            "\t\t02_squats_test       plot saved\n",
            "\t03_squats_test\n",
            "\t\t03_squats_test       processed data saved\n",
            "\t\t03_squats_test       plot saved\n",
            "\t04_squats_test\n",
            "\t\t04_squats_test       processed data saved\n",
            "\t\t04_squats_test       plot saved\n",
            "mountain_climbers_test\n",
            "\t01_mountain_climbers_test\n",
            "\t\t01_mountain_climbers_test processed data saved\n",
            "\t\t01_mountain_climbers_test plot saved\n",
            "\t02_mountain_climbers_test\n",
            "\t\t02_mountain_climbers_test processed data saved\n",
            "\t\t02_mountain_climbers_test plot saved\n",
            "\t03_mountain_climbers_test\n",
            "\t\t03_mountain_climbers_test processed data saved\n",
            "\t\t03_mountain_climbers_test plot saved\n",
            "\t04_mountain_climbers_test\n",
            "\t\t04_mountain_climbers_test processed data saved\n",
            "\t\t04_mountain_climbers_test plot saved\n"
          ]
        }
      ]
    }
  ]
}