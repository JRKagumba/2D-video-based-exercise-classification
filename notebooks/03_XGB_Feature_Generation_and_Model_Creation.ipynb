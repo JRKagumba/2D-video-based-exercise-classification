{
  "nbformat": 4,
  "nbformat_minor": 0,
  "metadata": {
    "colab": {
      "provenance": [],
      "authorship_tag": "ABX9TyNIMLTWzo1lcVXIql8Z33jB",
      "include_colab_link": true
    },
    "kernelspec": {
      "name": "python3",
      "display_name": "Python 3"
    },
    "language_info": {
      "name": "python"
    }
  },
  "cells": [
    {
      "cell_type": "markdown",
      "metadata": {
        "id": "view-in-github",
        "colab_type": "text"
      },
      "source": [
        "<a href=\"https://colab.research.google.com/github/JRKagumba/2D-video-based-exercise-classification/blob/main/notebooks/03_XGB_Feature_Generation_and_Model_Creation.ipynb\" target=\"_parent\"><img src=\"https://colab.research.google.com/assets/colab-badge.svg\" alt=\"Open In Colab\"/></a>"
      ]
    },
    {
      "cell_type": "markdown",
      "source": [
        "### Mount Drive"
      ],
      "metadata": {
        "id": "vNtv9aYXgvlA"
      }
    },
    {
      "cell_type": "code",
      "execution_count": 15,
      "metadata": {
        "colab": {
          "base_uri": "https://localhost:8080/"
        },
        "id": "67VCscIdgogd",
        "outputId": "fa02fd37-98ea-4aa8-9fd7-c9a30365e63b"
      },
      "outputs": [
        {
          "output_type": "stream",
          "name": "stdout",
          "text": [
            "Drive already mounted at /content/gdrive; to attempt to forcibly remount, call drive.mount(\"/content/gdrive\", force_remount=True).\n"
          ]
        }
      ],
      "source": [
        "from google.colab import drive\n",
        "drive.mount('/content/gdrive')"
      ]
    },
    {
      "cell_type": "markdown",
      "source": [
        "### Install libraries"
      ],
      "metadata": {
        "id": "uS5r6mAvhA9C"
      }
    },
    {
      "cell_type": "code",
      "source": [
        "!pip install cesium"
      ],
      "metadata": {
        "colab": {
          "base_uri": "https://localhost:8080/"
        },
        "id": "H9NZ2nRuhGlT",
        "outputId": "902bc012-5014-4e65-a2cf-608b0a66000e"
      },
      "execution_count": 16,
      "outputs": [
        {
          "output_type": "stream",
          "name": "stdout",
          "text": [
            "Looking in indexes: https://pypi.org/simple, https://us-python.pkg.dev/colab-wheels/public/simple/\n",
            "Requirement already satisfied: cesium in /usr/local/lib/python3.7/dist-packages (0.10.1)\n",
            "Requirement already satisfied: pandas>=0.17.0 in /usr/local/lib/python3.7/dist-packages (from cesium) (1.3.5)\n",
            "Requirement already satisfied: dask>=2.5.0 in /usr/local/lib/python3.7/dist-packages (from cesium) (2022.2.0)\n",
            "Requirement already satisfied: toolz in /usr/local/lib/python3.7/dist-packages (from cesium) (0.12.0)\n",
            "Requirement already satisfied: scikit-learn>=0.22.1 in /usr/local/lib/python3.7/dist-packages (from cesium) (1.0.2)\n",
            "Requirement already satisfied: scipy>=0.16.0 in /usr/local/lib/python3.7/dist-packages (from cesium) (1.7.3)\n",
            "Requirement already satisfied: cloudpickle in /usr/local/lib/python3.7/dist-packages (from cesium) (1.5.0)\n",
            "Requirement already satisfied: joblib>=0.14.1 in /usr/local/lib/python3.7/dist-packages (from cesium) (1.1.0)\n",
            "Requirement already satisfied: gatspy>=0.3.0 in /usr/local/lib/python3.7/dist-packages (from cesium) (0.3)\n",
            "Requirement already satisfied: pyyaml>=5.3.1 in /usr/local/lib/python3.7/dist-packages (from dask>=2.5.0->cesium) (6.0)\n",
            "Requirement already satisfied: fsspec>=0.6.0 in /usr/local/lib/python3.7/dist-packages (from dask>=2.5.0->cesium) (2022.8.2)\n",
            "Requirement already satisfied: partd>=0.3.10 in /usr/local/lib/python3.7/dist-packages (from dask>=2.5.0->cesium) (1.3.0)\n",
            "Requirement already satisfied: packaging>=20.0 in /usr/local/lib/python3.7/dist-packages (from dask>=2.5.0->cesium) (21.3)\n",
            "Requirement already satisfied: pyparsing!=3.0.5,>=2.0.2 in /usr/local/lib/python3.7/dist-packages (from packaging>=20.0->dask>=2.5.0->cesium) (3.0.9)\n",
            "Requirement already satisfied: pytz>=2017.3 in /usr/local/lib/python3.7/dist-packages (from pandas>=0.17.0->cesium) (2022.2.1)\n",
            "Requirement already satisfied: python-dateutil>=2.7.3 in /usr/local/lib/python3.7/dist-packages (from pandas>=0.17.0->cesium) (2.8.2)\n",
            "Requirement already satisfied: numpy>=1.17.3 in /usr/local/lib/python3.7/dist-packages (from pandas>=0.17.0->cesium) (1.21.6)\n",
            "Requirement already satisfied: locket in /usr/local/lib/python3.7/dist-packages (from partd>=0.3.10->dask>=2.5.0->cesium) (1.0.0)\n",
            "Requirement already satisfied: six>=1.5 in /usr/local/lib/python3.7/dist-packages (from python-dateutil>=2.7.3->pandas>=0.17.0->cesium) (1.15.0)\n",
            "Requirement already satisfied: threadpoolctl>=2.0.0 in /usr/local/lib/python3.7/dist-packages (from scikit-learn>=0.22.1->cesium) (3.1.0)\n"
          ]
        }
      ]
    },
    {
      "cell_type": "code",
      "source": [
        "import os\n",
        "import cesium\n",
        "import xgboost as xgb\n",
        "import numpy as np\n",
        "import pandas as pd\n",
        "\n",
        "from cesium import featurize as ft\n",
        "import matplotlib.pyplot as plt\n",
        "\n",
        "from sklearn.metrics import accuracy_score\n",
        "from sklearn.model_selection import train_test_split\n",
        "from sklearn.inspection import permutation_importance"
      ],
      "metadata": {
        "id": "R6uM24YshQZR"
      },
      "execution_count": 17,
      "outputs": []
    },
    {
      "cell_type": "code",
      "source": [
        "PROJ_WORKOUTS_ROOT = os.path.join('/content/gdrive/MyDrive/ColabNotebooks/BiomechanicsAnalysis/___WORKOUTS/data/processed')\n",
        "\n",
        "workout_types = os.listdir(PROJ_WORKOUTS_ROOT)\n",
        "\n",
        "data_dict = {\n",
        "    'burpees':[],\n",
        "    'jumping_jacks':[],\n",
        "    'mountain_climbers':[],\n",
        "    'pushups':[],\n",
        "    'squats':[]\n",
        "}\n",
        "\n",
        "joint_angles_list = ['L_ELB',\t'R_ELB',\n",
        "                     'L_SHO','R_SHO',\n",
        "                     'L_HIP','R_HIP',\n",
        "                     'L_KNE','R_KNE']"
      ],
      "metadata": {
        "id": "wuckvJrBimKs"
      },
      "execution_count": 18,
      "outputs": []
    },
    {
      "cell_type": "markdown",
      "source": [
        "### Load in Dataframes"
      ],
      "metadata": {
        "id": "5xGMjroIjT9s"
      }
    },
    {
      "cell_type": "code",
      "source": [
        "for workout_type in workout_types:\n",
        "    workout_samples = os.listdir(os.path.join(PROJ_WORKOUTS_ROOT, workout_type)) \n",
        "    for sample in workout_samples:\n",
        "        sample_csv_path = os.path.join(PROJ_WORKOUTS_ROOT, workout_type, sample, f'{sample}_joint_angles.csv')\n",
        "\n",
        "        df = pd.read_csv(sample_csv_path)\n",
        "        data_dict[workout_type].append(df)"
      ],
      "metadata": {
        "id": "yapbv1ssjWEg"
      },
      "execution_count": 19,
      "outputs": []
    },
    {
      "cell_type": "markdown",
      "source": [
        "### Convert Joint Angle Data Vector into Numpy Array"
      ],
      "metadata": {
        "id": "aknCfL_TkBeo"
      }
    },
    {
      "cell_type": "code",
      "source": [
        "JA_df_dict = {}\n",
        "\n",
        "for joint_angle in joint_angles_list:\n",
        "\n",
        "    dataframe_lst = []\n",
        "\n",
        "    for key, value_lst in data_dict.items():\n",
        "        for df in value_lst:\n",
        "            dataframe_lst.append(\n",
        "                {   \n",
        "                'times' : df.index.to_numpy(), \n",
        "                'values' : df[joint_angle].to_numpy(), \n",
        "                'classes' : key\n",
        "                }\n",
        "            )\n",
        "\n",
        "    JA_df_dict[joint_angle] = pd.DataFrame(dataframe_lst)"
      ],
      "metadata": {
        "id": "d5sIYbU_j8u_"
      },
      "execution_count": 20,
      "outputs": []
    },
    {
      "cell_type": "markdown",
      "source": [
        "### Get rid of rows with values of size 0\n",
        "\n",
        "Looks like only index 86 has a value and time of 0... we will drop it"
      ],
      "metadata": {
        "id": "tWZWbDCgkZp0"
      }
    },
    {
      "cell_type": "code",
      "source": [
        "for ind in JA_df_dict['L_ELB'].index[84:89]:\n",
        "    print(f\"Index:{ind}, {np.size(JA_df_dict['L_ELB']['times'][ind]):<10}, {np.size(JA_df_dict['L_ELB']['values'][ind]):<10}, {np.size(JA_df_dict['L_ELB']['classes'][ind]):<10}\")"
      ],
      "metadata": {
        "colab": {
          "base_uri": "https://localhost:8080/"
        },
        "id": "-tLOFdv0mMvT",
        "outputId": "16158429-cfe0-4bf0-e104-90beec96d545"
      },
      "execution_count": 21,
      "outputs": [
        {
          "output_type": "stream",
          "name": "stdout",
          "text": [
            "Index:84, 536       , 536       , 1         \n",
            "Index:85, 589       , 589       , 1         \n",
            "Index:86, 0         , 0         , 1         \n",
            "Index:87, 833       , 833       , 1         \n",
            "Index:88, 298       , 298       , 1         \n"
          ]
        }
      ]
    },
    {
      "cell_type": "code",
      "source": [
        "for key in JA_df_dict.keys():\n",
        "    JA_df_dict[key] = JA_df_dict[key].drop([86])\n",
        "\n",
        "for ind in JA_df_dict['L_ELB'].index[84:89]:\n",
        "    print(f\"Index:{ind}, {np.size(JA_df_dict['L_ELB']['times'][ind]):<10}, {np.size(JA_df_dict['L_ELB']['values'][ind]):<10}, {np.size(JA_df_dict['L_ELB']['classes'][ind]):<10}\")"
      ],
      "metadata": {
        "colab": {
          "base_uri": "https://localhost:8080/"
        },
        "id": "UfO6a7xOkd_z",
        "outputId": "eae5bf46-6ffa-45be-8440-6657289b39ab"
      },
      "execution_count": 22,
      "outputs": [
        {
          "output_type": "stream",
          "name": "stdout",
          "text": [
            "Index:84, 536       , 536       , 1         \n",
            "Index:85, 589       , 589       , 1         \n",
            "Index:87, 833       , 833       , 1         \n",
            "Index:88, 298       , 298       , 1         \n",
            "Index:89, 138       , 138       , 1         \n"
          ]
        }
      ]
    },
    {
      "cell_type": "markdown",
      "source": [
        "### Convert all Dataframes to Dicts  (this is the format cesium likes for feature generation)"
      ],
      "metadata": {
        "id": "9_VKb9ykmdGg"
      }
    },
    {
      "cell_type": "code",
      "source": [
        "for key in JA_df_dict.keys():\n",
        "\n",
        "    JA_df_dict[key] = JA_df_dict[key].to_dict()\n",
        "\n",
        "    times = [value for value in JA_df_dict[key]['times'].values()]\n",
        "    values = [value for value in JA_df_dict[key]['values'].values()]\n",
        "    classes = np.array([value for value in JA_df_dict[key]['classes'].values()])\n",
        "\n",
        "\n",
        "    JA_df_dict[key]['times'] = times\n",
        "    JA_df_dict[key]['values'] = values\n",
        "    JA_df_dict[key]['classes'] = classes"
      ],
      "metadata": {
        "id": "BmEBOB1MmjJs"
      },
      "execution_count": 23,
      "outputs": []
    },
    {
      "cell_type": "markdown",
      "source": [
        "### Create a dict of features for each joint angle time series set"
      ],
      "metadata": {
        "id": "nHyepjKXmtmv"
      }
    },
    {
      "cell_type": "code",
      "source": [
        "features_to_use = [    \n",
        "    \"amplitude\",\n",
        "    \"percent_beyond_1_std\",\n",
        "    \"maximum\",\n",
        "    \"max_slope\",\n",
        "    \"median\",\n",
        "    \"median_absolute_deviation\",\n",
        "    \"percent_close_to_median\",\n",
        "    \"minimum\",\n",
        "    \"skew\",\n",
        "    \"std\",\n",
        "    \"weighted_average\"]\n",
        "\n",
        "features_df_dict = {}\n",
        "\n",
        "for key in JA_df_dict.keys():\n",
        "\n",
        "    features_df_dict[key] = ft.featurize_time_series(times=JA_df_dict[key]['times'],\n",
        "                                              values=JA_df_dict[key][\"values\"],\n",
        "                                              errors=None,\n",
        "                                              features_to_use=features_to_use,\n",
        "                                              scheduler=None)\n",
        "    \n",
        "    features_df_dict[key]['classes'] = JA_df_dict[key]['classes']\n",
        "    features_df_dict[key].columns =  features_df_dict[key].columns.droplevel(-1)\n",
        "\n",
        "features_df_dict['L_ELB'].head(3)"
      ],
      "metadata": {
        "colab": {
          "base_uri": "https://localhost:8080/",
          "height": 207
        },
        "id": "g-sVSgTnmtAq",
        "outputId": "af95a956-20cc-476f-900a-e1f5fdd646a7"
      },
      "execution_count": 24,
      "outputs": [
        {
          "output_type": "execute_result",
          "data": {
            "text/plain": [
              "feature  amplitude  percent_beyond_1_std  maximum  max_slope  median  \\\n",
              "0            54.32                  0.24   179.02      19.66  155.17   \n",
              "1            89.61                  0.18   179.31     149.00  147.36   \n",
              "2            85.72                  0.37   171.91      80.36  130.82   \n",
              "\n",
              "feature  median_absolute_deviation  percent_close_to_median  minimum  skew  \\\n",
              "0                            12.42                     0.44    70.37 -1.01   \n",
              "1                            18.73                     0.48     0.09 -1.22   \n",
              "2                            31.75                     0.22     0.46 -0.69   \n",
              "\n",
              "feature   std  weighted_average  classes  \n",
              "0       30.85            141.22  burpees  \n",
              "1       40.66            130.16  burpees  \n",
              "2       45.59            117.39  burpees  "
            ],
            "text/html": [
              "\n",
              "  <div id=\"df-4107110b-b6bc-4d42-8a42-3dc345fde945\">\n",
              "    <div class=\"colab-df-container\">\n",
              "      <div>\n",
              "<style scoped>\n",
              "    .dataframe tbody tr th:only-of-type {\n",
              "        vertical-align: middle;\n",
              "    }\n",
              "\n",
              "    .dataframe tbody tr th {\n",
              "        vertical-align: top;\n",
              "    }\n",
              "\n",
              "    .dataframe thead th {\n",
              "        text-align: right;\n",
              "    }\n",
              "</style>\n",
              "<table border=\"1\" class=\"dataframe\">\n",
              "  <thead>\n",
              "    <tr style=\"text-align: right;\">\n",
              "      <th>feature</th>\n",
              "      <th>amplitude</th>\n",
              "      <th>percent_beyond_1_std</th>\n",
              "      <th>maximum</th>\n",
              "      <th>max_slope</th>\n",
              "      <th>median</th>\n",
              "      <th>median_absolute_deviation</th>\n",
              "      <th>percent_close_to_median</th>\n",
              "      <th>minimum</th>\n",
              "      <th>skew</th>\n",
              "      <th>std</th>\n",
              "      <th>weighted_average</th>\n",
              "      <th>classes</th>\n",
              "    </tr>\n",
              "  </thead>\n",
              "  <tbody>\n",
              "    <tr>\n",
              "      <th>0</th>\n",
              "      <td>54.32</td>\n",
              "      <td>0.24</td>\n",
              "      <td>179.02</td>\n",
              "      <td>19.66</td>\n",
              "      <td>155.17</td>\n",
              "      <td>12.42</td>\n",
              "      <td>0.44</td>\n",
              "      <td>70.37</td>\n",
              "      <td>-1.01</td>\n",
              "      <td>30.85</td>\n",
              "      <td>141.22</td>\n",
              "      <td>burpees</td>\n",
              "    </tr>\n",
              "    <tr>\n",
              "      <th>1</th>\n",
              "      <td>89.61</td>\n",
              "      <td>0.18</td>\n",
              "      <td>179.31</td>\n",
              "      <td>149.00</td>\n",
              "      <td>147.36</td>\n",
              "      <td>18.73</td>\n",
              "      <td>0.48</td>\n",
              "      <td>0.09</td>\n",
              "      <td>-1.22</td>\n",
              "      <td>40.66</td>\n",
              "      <td>130.16</td>\n",
              "      <td>burpees</td>\n",
              "    </tr>\n",
              "    <tr>\n",
              "      <th>2</th>\n",
              "      <td>85.72</td>\n",
              "      <td>0.37</td>\n",
              "      <td>171.91</td>\n",
              "      <td>80.36</td>\n",
              "      <td>130.82</td>\n",
              "      <td>31.75</td>\n",
              "      <td>0.22</td>\n",
              "      <td>0.46</td>\n",
              "      <td>-0.69</td>\n",
              "      <td>45.59</td>\n",
              "      <td>117.39</td>\n",
              "      <td>burpees</td>\n",
              "    </tr>\n",
              "  </tbody>\n",
              "</table>\n",
              "</div>\n",
              "      <button class=\"colab-df-convert\" onclick=\"convertToInteractive('df-4107110b-b6bc-4d42-8a42-3dc345fde945')\"\n",
              "              title=\"Convert this dataframe to an interactive table.\"\n",
              "              style=\"display:none;\">\n",
              "        \n",
              "  <svg xmlns=\"http://www.w3.org/2000/svg\" height=\"24px\"viewBox=\"0 0 24 24\"\n",
              "       width=\"24px\">\n",
              "    <path d=\"M0 0h24v24H0V0z\" fill=\"none\"/>\n",
              "    <path d=\"M18.56 5.44l.94 2.06.94-2.06 2.06-.94-2.06-.94-.94-2.06-.94 2.06-2.06.94zm-11 1L8.5 8.5l.94-2.06 2.06-.94-2.06-.94L8.5 2.5l-.94 2.06-2.06.94zm10 10l.94 2.06.94-2.06 2.06-.94-2.06-.94-.94-2.06-.94 2.06-2.06.94z\"/><path d=\"M17.41 7.96l-1.37-1.37c-.4-.4-.92-.59-1.43-.59-.52 0-1.04.2-1.43.59L10.3 9.45l-7.72 7.72c-.78.78-.78 2.05 0 2.83L4 21.41c.39.39.9.59 1.41.59.51 0 1.02-.2 1.41-.59l7.78-7.78 2.81-2.81c.8-.78.8-2.07 0-2.86zM5.41 20L4 18.59l7.72-7.72 1.47 1.35L5.41 20z\"/>\n",
              "  </svg>\n",
              "      </button>\n",
              "      \n",
              "  <style>\n",
              "    .colab-df-container {\n",
              "      display:flex;\n",
              "      flex-wrap:wrap;\n",
              "      gap: 12px;\n",
              "    }\n",
              "\n",
              "    .colab-df-convert {\n",
              "      background-color: #E8F0FE;\n",
              "      border: none;\n",
              "      border-radius: 50%;\n",
              "      cursor: pointer;\n",
              "      display: none;\n",
              "      fill: #1967D2;\n",
              "      height: 32px;\n",
              "      padding: 0 0 0 0;\n",
              "      width: 32px;\n",
              "    }\n",
              "\n",
              "    .colab-df-convert:hover {\n",
              "      background-color: #E2EBFA;\n",
              "      box-shadow: 0px 1px 2px rgba(60, 64, 67, 0.3), 0px 1px 3px 1px rgba(60, 64, 67, 0.15);\n",
              "      fill: #174EA6;\n",
              "    }\n",
              "\n",
              "    [theme=dark] .colab-df-convert {\n",
              "      background-color: #3B4455;\n",
              "      fill: #D2E3FC;\n",
              "    }\n",
              "\n",
              "    [theme=dark] .colab-df-convert:hover {\n",
              "      background-color: #434B5C;\n",
              "      box-shadow: 0px 1px 3px 1px rgba(0, 0, 0, 0.15);\n",
              "      filter: drop-shadow(0px 1px 2px rgba(0, 0, 0, 0.3));\n",
              "      fill: #FFFFFF;\n",
              "    }\n",
              "  </style>\n",
              "\n",
              "      <script>\n",
              "        const buttonEl =\n",
              "          document.querySelector('#df-4107110b-b6bc-4d42-8a42-3dc345fde945 button.colab-df-convert');\n",
              "        buttonEl.style.display =\n",
              "          google.colab.kernel.accessAllowed ? 'block' : 'none';\n",
              "\n",
              "        async function convertToInteractive(key) {\n",
              "          const element = document.querySelector('#df-4107110b-b6bc-4d42-8a42-3dc345fde945');\n",
              "          const dataTable =\n",
              "            await google.colab.kernel.invokeFunction('convertToInteractive',\n",
              "                                                     [key], {});\n",
              "          if (!dataTable) return;\n",
              "\n",
              "          const docLinkHtml = 'Like what you see? Visit the ' +\n",
              "            '<a target=\"_blank\" href=https://colab.research.google.com/notebooks/data_table.ipynb>data table notebook</a>'\n",
              "            + ' to learn more about interactive tables.';\n",
              "          element.innerHTML = '';\n",
              "          dataTable['output_type'] = 'display_data';\n",
              "          await google.colab.output.renderOutput(dataTable, element);\n",
              "          const docLink = document.createElement('div');\n",
              "          docLink.innerHTML = docLinkHtml;\n",
              "          element.appendChild(docLink);\n",
              "        }\n",
              "      </script>\n",
              "    </div>\n",
              "  </div>\n",
              "  "
            ]
          },
          "metadata": {},
          "execution_count": 24
        }
      ]
    },
    {
      "cell_type": "markdown",
      "source": [
        "### Train XGB Model"
      ],
      "metadata": {
        "id": "m2DBOvGAnRuE"
      }
    },
    {
      "cell_type": "code",
      "source": [
        "joint_name = []\n",
        "training_score = []\n",
        "testing_score = []\n",
        "\n",
        "\n",
        "feature_importance = []\n",
        "\n",
        "joint_model = {}\n",
        "\n",
        "def model_training(df, joint):\n",
        "\n",
        "    X_train, X_test, y_train, y_test = train_test_split(\n",
        "        df.iloc[:, :11].values, df[\"classes\"], test_size=0.2)\n",
        "    \n",
        "    model = xgb.XGBClassifier(n_estimators=25, max_depth=25) #random_state=16                  \n",
        "    model.fit(X_train, y_train)\n",
        "\n",
        "    joint_model[joint] = model\n",
        "\n",
        "    perm_importance = permutation_importance(model, X_test, y_test)\n",
        "\n",
        "    joint_name.append(joint)\n",
        "    training_score.append(model.score(X_train, y_train))\n",
        "    testing_score.append(model.score(X_test, y_test))\n",
        "\n",
        "    feature_importance.append(perm_importance)\n",
        "    # feature_importance.append(perm_importance.importances_mean.argsort())\n",
        "\n",
        "    # print(f\"Joint:{joint:<15}, Train_Score:{model.score(X_train, y_train):<15}, Test_Score:{model.score(X_test, y_test):<15}\")\n",
        "\n",
        "\n",
        "for key in JA_df_dict.keys():\n",
        "    model_training(features_df_dict[key], key)\n",
        "\n",
        "\n",
        "pd.options.display.float_format = \"{:,.2f}\".format\n",
        "df_results = pd.DataFrame([joint_name, training_score, testing_score])\n",
        "df_results = df_results.transpose()\n",
        "df_results = df_results.rename(columns={0:'Joint',1:'Training Score',2:'Testing Score'}).sort_values(by='Testing Score',ascending=False)\n",
        "df_results"
      ],
      "metadata": {
        "colab": {
          "base_uri": "https://localhost:8080/",
          "height": 300
        },
        "id": "dy30wyD1ncqo",
        "outputId": "e8517f63-87ef-4808-d507-e5812084bdd6"
      },
      "execution_count": 25,
      "outputs": [
        {
          "output_type": "execute_result",
          "data": {
            "text/plain": [
              "   Joint Training Score Testing Score\n",
              "3  R_SHO           0.99          0.86\n",
              "4  L_HIP           1.00          0.86\n",
              "2  L_SHO           0.99          0.79\n",
              "6  L_KNE           0.99          0.79\n",
              "7  R_KNE           1.00          0.79\n",
              "5  R_HIP           1.00          0.75\n",
              "0  L_ELB           1.00          0.68\n",
              "1  R_ELB           1.00          0.54"
            ],
            "text/html": [
              "\n",
              "  <div id=\"df-e84d72cb-39a1-456c-89df-f8d2619eda3b\">\n",
              "    <div class=\"colab-df-container\">\n",
              "      <div>\n",
              "<style scoped>\n",
              "    .dataframe tbody tr th:only-of-type {\n",
              "        vertical-align: middle;\n",
              "    }\n",
              "\n",
              "    .dataframe tbody tr th {\n",
              "        vertical-align: top;\n",
              "    }\n",
              "\n",
              "    .dataframe thead th {\n",
              "        text-align: right;\n",
              "    }\n",
              "</style>\n",
              "<table border=\"1\" class=\"dataframe\">\n",
              "  <thead>\n",
              "    <tr style=\"text-align: right;\">\n",
              "      <th></th>\n",
              "      <th>Joint</th>\n",
              "      <th>Training Score</th>\n",
              "      <th>Testing Score</th>\n",
              "    </tr>\n",
              "  </thead>\n",
              "  <tbody>\n",
              "    <tr>\n",
              "      <th>3</th>\n",
              "      <td>R_SHO</td>\n",
              "      <td>0.99</td>\n",
              "      <td>0.86</td>\n",
              "    </tr>\n",
              "    <tr>\n",
              "      <th>4</th>\n",
              "      <td>L_HIP</td>\n",
              "      <td>1.00</td>\n",
              "      <td>0.86</td>\n",
              "    </tr>\n",
              "    <tr>\n",
              "      <th>2</th>\n",
              "      <td>L_SHO</td>\n",
              "      <td>0.99</td>\n",
              "      <td>0.79</td>\n",
              "    </tr>\n",
              "    <tr>\n",
              "      <th>6</th>\n",
              "      <td>L_KNE</td>\n",
              "      <td>0.99</td>\n",
              "      <td>0.79</td>\n",
              "    </tr>\n",
              "    <tr>\n",
              "      <th>7</th>\n",
              "      <td>R_KNE</td>\n",
              "      <td>1.00</td>\n",
              "      <td>0.79</td>\n",
              "    </tr>\n",
              "    <tr>\n",
              "      <th>5</th>\n",
              "      <td>R_HIP</td>\n",
              "      <td>1.00</td>\n",
              "      <td>0.75</td>\n",
              "    </tr>\n",
              "    <tr>\n",
              "      <th>0</th>\n",
              "      <td>L_ELB</td>\n",
              "      <td>1.00</td>\n",
              "      <td>0.68</td>\n",
              "    </tr>\n",
              "    <tr>\n",
              "      <th>1</th>\n",
              "      <td>R_ELB</td>\n",
              "      <td>1.00</td>\n",
              "      <td>0.54</td>\n",
              "    </tr>\n",
              "  </tbody>\n",
              "</table>\n",
              "</div>\n",
              "      <button class=\"colab-df-convert\" onclick=\"convertToInteractive('df-e84d72cb-39a1-456c-89df-f8d2619eda3b')\"\n",
              "              title=\"Convert this dataframe to an interactive table.\"\n",
              "              style=\"display:none;\">\n",
              "        \n",
              "  <svg xmlns=\"http://www.w3.org/2000/svg\" height=\"24px\"viewBox=\"0 0 24 24\"\n",
              "       width=\"24px\">\n",
              "    <path d=\"M0 0h24v24H0V0z\" fill=\"none\"/>\n",
              "    <path d=\"M18.56 5.44l.94 2.06.94-2.06 2.06-.94-2.06-.94-.94-2.06-.94 2.06-2.06.94zm-11 1L8.5 8.5l.94-2.06 2.06-.94-2.06-.94L8.5 2.5l-.94 2.06-2.06.94zm10 10l.94 2.06.94-2.06 2.06-.94-2.06-.94-.94-2.06-.94 2.06-2.06.94z\"/><path d=\"M17.41 7.96l-1.37-1.37c-.4-.4-.92-.59-1.43-.59-.52 0-1.04.2-1.43.59L10.3 9.45l-7.72 7.72c-.78.78-.78 2.05 0 2.83L4 21.41c.39.39.9.59 1.41.59.51 0 1.02-.2 1.41-.59l7.78-7.78 2.81-2.81c.8-.78.8-2.07 0-2.86zM5.41 20L4 18.59l7.72-7.72 1.47 1.35L5.41 20z\"/>\n",
              "  </svg>\n",
              "      </button>\n",
              "      \n",
              "  <style>\n",
              "    .colab-df-container {\n",
              "      display:flex;\n",
              "      flex-wrap:wrap;\n",
              "      gap: 12px;\n",
              "    }\n",
              "\n",
              "    .colab-df-convert {\n",
              "      background-color: #E8F0FE;\n",
              "      border: none;\n",
              "      border-radius: 50%;\n",
              "      cursor: pointer;\n",
              "      display: none;\n",
              "      fill: #1967D2;\n",
              "      height: 32px;\n",
              "      padding: 0 0 0 0;\n",
              "      width: 32px;\n",
              "    }\n",
              "\n",
              "    .colab-df-convert:hover {\n",
              "      background-color: #E2EBFA;\n",
              "      box-shadow: 0px 1px 2px rgba(60, 64, 67, 0.3), 0px 1px 3px 1px rgba(60, 64, 67, 0.15);\n",
              "      fill: #174EA6;\n",
              "    }\n",
              "\n",
              "    [theme=dark] .colab-df-convert {\n",
              "      background-color: #3B4455;\n",
              "      fill: #D2E3FC;\n",
              "    }\n",
              "\n",
              "    [theme=dark] .colab-df-convert:hover {\n",
              "      background-color: #434B5C;\n",
              "      box-shadow: 0px 1px 3px 1px rgba(0, 0, 0, 0.15);\n",
              "      filter: drop-shadow(0px 1px 2px rgba(0, 0, 0, 0.3));\n",
              "      fill: #FFFFFF;\n",
              "    }\n",
              "  </style>\n",
              "\n",
              "      <script>\n",
              "        const buttonEl =\n",
              "          document.querySelector('#df-e84d72cb-39a1-456c-89df-f8d2619eda3b button.colab-df-convert');\n",
              "        buttonEl.style.display =\n",
              "          google.colab.kernel.accessAllowed ? 'block' : 'none';\n",
              "\n",
              "        async function convertToInteractive(key) {\n",
              "          const element = document.querySelector('#df-e84d72cb-39a1-456c-89df-f8d2619eda3b');\n",
              "          const dataTable =\n",
              "            await google.colab.kernel.invokeFunction('convertToInteractive',\n",
              "                                                     [key], {});\n",
              "          if (!dataTable) return;\n",
              "\n",
              "          const docLinkHtml = 'Like what you see? Visit the ' +\n",
              "            '<a target=\"_blank\" href=https://colab.research.google.com/notebooks/data_table.ipynb>data table notebook</a>'\n",
              "            + ' to learn more about interactive tables.';\n",
              "          element.innerHTML = '';\n",
              "          dataTable['output_type'] = 'display_data';\n",
              "          await google.colab.output.renderOutput(dataTable, element);\n",
              "          const docLink = document.createElement('div');\n",
              "          docLink.innerHTML = docLinkHtml;\n",
              "          element.appendChild(docLink);\n",
              "        }\n",
              "      </script>\n",
              "    </div>\n",
              "  </div>\n",
              "  "
            ]
          },
          "metadata": {},
          "execution_count": 25
        }
      ]
    },
    {
      "cell_type": "code",
      "source": [
        "feature_map_dict = {\n",
        "0 : \"amplitude\",\n",
        "1 : \"percent_beyond_1_std\",\n",
        "2 : \"maximum\",\n",
        "3 : \"max_slope\",\n",
        "4 : \"median\",\n",
        "5 : \"median_absolute_deviation\",\n",
        "6 : \"percent_close_to_median\",\n",
        "7 : \"minimum\",\n",
        "8 : \"skew\",\n",
        "9 : \"std\",\n",
        "10 : \"weighted_average\"\n",
        "}\n",
        "\n",
        "\n",
        "#Create a dict and df of important features\n",
        "important_features_data_dict = {index :feature_importance[index]['importances_mean']   for index, _ in enumerate(joint_name)}\n",
        "important_features_data_df = pd.DataFrame.from_dict(important_features_data_dict)\n",
        "\n",
        "#Temp dict of Joint names\n",
        "temp_dict = { index : value  for index, value in enumerate(joint_name)}\n",
        "\n",
        "important_features_data_df= important_features_data_df.rename(temp_dict, axis=1).rename(feature_map_dict, axis=0)\n",
        "important_features_data_df"
      ],
      "metadata": {
        "colab": {
          "base_uri": "https://localhost:8080/",
          "height": 394
        },
        "id": "G-ySHhwanv_2",
        "outputId": "758d067d-8a27-43a5-87d1-cade2e7fe479"
      },
      "execution_count": 26,
      "outputs": [
        {
          "output_type": "execute_result",
          "data": {
            "text/plain": [
              "                           L_ELB  R_ELB  L_SHO  R_SHO  L_HIP  R_HIP  L_KNE  \\\n",
              "amplitude                  -0.02   0.00   0.15   0.00   0.00   0.02   0.06   \n",
              "percent_beyond_1_std        0.02   0.00   0.07   0.04   0.08   0.01   0.00   \n",
              "maximum                     0.00   0.04   0.04   0.01   0.02   0.17   0.03   \n",
              "max_slope                   0.04   0.00   0.01   0.16   0.04   0.21   0.22   \n",
              "median                      0.26   0.07   0.01  -0.01   0.09   0.01   0.00   \n",
              "median_absolute_deviation   0.00   0.00   0.00   0.12   0.04   0.00   0.00   \n",
              "percent_close_to_median    -0.01   0.02  -0.03   0.01   0.02   0.01   0.01   \n",
              "minimum                    -0.07   0.08   0.19   0.13   0.12   0.01  -0.01   \n",
              "skew                       -0.01  -0.02   0.01   0.00   0.01   0.00   0.00   \n",
              "std                         0.19   0.15   0.00   0.00   0.03   0.25   0.07   \n",
              "weighted_average           -0.01   0.00   0.02   0.03   0.03  -0.02   0.03   \n",
              "\n",
              "                           R_KNE  \n",
              "amplitude                   0.15  \n",
              "percent_beyond_1_std       -0.01  \n",
              "maximum                     0.06  \n",
              "max_slope                   0.27  \n",
              "median                      0.04  \n",
              "median_absolute_deviation   0.11  \n",
              "percent_close_to_median     0.05  \n",
              "minimum                     0.01  \n",
              "skew                        0.07  \n",
              "std                         0.00  \n",
              "weighted_average            0.00  "
            ],
            "text/html": [
              "\n",
              "  <div id=\"df-f71a8619-681a-4d71-a33e-5d844fce1bc9\">\n",
              "    <div class=\"colab-df-container\">\n",
              "      <div>\n",
              "<style scoped>\n",
              "    .dataframe tbody tr th:only-of-type {\n",
              "        vertical-align: middle;\n",
              "    }\n",
              "\n",
              "    .dataframe tbody tr th {\n",
              "        vertical-align: top;\n",
              "    }\n",
              "\n",
              "    .dataframe thead th {\n",
              "        text-align: right;\n",
              "    }\n",
              "</style>\n",
              "<table border=\"1\" class=\"dataframe\">\n",
              "  <thead>\n",
              "    <tr style=\"text-align: right;\">\n",
              "      <th></th>\n",
              "      <th>L_ELB</th>\n",
              "      <th>R_ELB</th>\n",
              "      <th>L_SHO</th>\n",
              "      <th>R_SHO</th>\n",
              "      <th>L_HIP</th>\n",
              "      <th>R_HIP</th>\n",
              "      <th>L_KNE</th>\n",
              "      <th>R_KNE</th>\n",
              "    </tr>\n",
              "  </thead>\n",
              "  <tbody>\n",
              "    <tr>\n",
              "      <th>amplitude</th>\n",
              "      <td>-0.02</td>\n",
              "      <td>0.00</td>\n",
              "      <td>0.15</td>\n",
              "      <td>0.00</td>\n",
              "      <td>0.00</td>\n",
              "      <td>0.02</td>\n",
              "      <td>0.06</td>\n",
              "      <td>0.15</td>\n",
              "    </tr>\n",
              "    <tr>\n",
              "      <th>percent_beyond_1_std</th>\n",
              "      <td>0.02</td>\n",
              "      <td>0.00</td>\n",
              "      <td>0.07</td>\n",
              "      <td>0.04</td>\n",
              "      <td>0.08</td>\n",
              "      <td>0.01</td>\n",
              "      <td>0.00</td>\n",
              "      <td>-0.01</td>\n",
              "    </tr>\n",
              "    <tr>\n",
              "      <th>maximum</th>\n",
              "      <td>0.00</td>\n",
              "      <td>0.04</td>\n",
              "      <td>0.04</td>\n",
              "      <td>0.01</td>\n",
              "      <td>0.02</td>\n",
              "      <td>0.17</td>\n",
              "      <td>0.03</td>\n",
              "      <td>0.06</td>\n",
              "    </tr>\n",
              "    <tr>\n",
              "      <th>max_slope</th>\n",
              "      <td>0.04</td>\n",
              "      <td>0.00</td>\n",
              "      <td>0.01</td>\n",
              "      <td>0.16</td>\n",
              "      <td>0.04</td>\n",
              "      <td>0.21</td>\n",
              "      <td>0.22</td>\n",
              "      <td>0.27</td>\n",
              "    </tr>\n",
              "    <tr>\n",
              "      <th>median</th>\n",
              "      <td>0.26</td>\n",
              "      <td>0.07</td>\n",
              "      <td>0.01</td>\n",
              "      <td>-0.01</td>\n",
              "      <td>0.09</td>\n",
              "      <td>0.01</td>\n",
              "      <td>0.00</td>\n",
              "      <td>0.04</td>\n",
              "    </tr>\n",
              "    <tr>\n",
              "      <th>median_absolute_deviation</th>\n",
              "      <td>0.00</td>\n",
              "      <td>0.00</td>\n",
              "      <td>0.00</td>\n",
              "      <td>0.12</td>\n",
              "      <td>0.04</td>\n",
              "      <td>0.00</td>\n",
              "      <td>0.00</td>\n",
              "      <td>0.11</td>\n",
              "    </tr>\n",
              "    <tr>\n",
              "      <th>percent_close_to_median</th>\n",
              "      <td>-0.01</td>\n",
              "      <td>0.02</td>\n",
              "      <td>-0.03</td>\n",
              "      <td>0.01</td>\n",
              "      <td>0.02</td>\n",
              "      <td>0.01</td>\n",
              "      <td>0.01</td>\n",
              "      <td>0.05</td>\n",
              "    </tr>\n",
              "    <tr>\n",
              "      <th>minimum</th>\n",
              "      <td>-0.07</td>\n",
              "      <td>0.08</td>\n",
              "      <td>0.19</td>\n",
              "      <td>0.13</td>\n",
              "      <td>0.12</td>\n",
              "      <td>0.01</td>\n",
              "      <td>-0.01</td>\n",
              "      <td>0.01</td>\n",
              "    </tr>\n",
              "    <tr>\n",
              "      <th>skew</th>\n",
              "      <td>-0.01</td>\n",
              "      <td>-0.02</td>\n",
              "      <td>0.01</td>\n",
              "      <td>0.00</td>\n",
              "      <td>0.01</td>\n",
              "      <td>0.00</td>\n",
              "      <td>0.00</td>\n",
              "      <td>0.07</td>\n",
              "    </tr>\n",
              "    <tr>\n",
              "      <th>std</th>\n",
              "      <td>0.19</td>\n",
              "      <td>0.15</td>\n",
              "      <td>0.00</td>\n",
              "      <td>0.00</td>\n",
              "      <td>0.03</td>\n",
              "      <td>0.25</td>\n",
              "      <td>0.07</td>\n",
              "      <td>0.00</td>\n",
              "    </tr>\n",
              "    <tr>\n",
              "      <th>weighted_average</th>\n",
              "      <td>-0.01</td>\n",
              "      <td>0.00</td>\n",
              "      <td>0.02</td>\n",
              "      <td>0.03</td>\n",
              "      <td>0.03</td>\n",
              "      <td>-0.02</td>\n",
              "      <td>0.03</td>\n",
              "      <td>0.00</td>\n",
              "    </tr>\n",
              "  </tbody>\n",
              "</table>\n",
              "</div>\n",
              "      <button class=\"colab-df-convert\" onclick=\"convertToInteractive('df-f71a8619-681a-4d71-a33e-5d844fce1bc9')\"\n",
              "              title=\"Convert this dataframe to an interactive table.\"\n",
              "              style=\"display:none;\">\n",
              "        \n",
              "  <svg xmlns=\"http://www.w3.org/2000/svg\" height=\"24px\"viewBox=\"0 0 24 24\"\n",
              "       width=\"24px\">\n",
              "    <path d=\"M0 0h24v24H0V0z\" fill=\"none\"/>\n",
              "    <path d=\"M18.56 5.44l.94 2.06.94-2.06 2.06-.94-2.06-.94-.94-2.06-.94 2.06-2.06.94zm-11 1L8.5 8.5l.94-2.06 2.06-.94-2.06-.94L8.5 2.5l-.94 2.06-2.06.94zm10 10l.94 2.06.94-2.06 2.06-.94-2.06-.94-.94-2.06-.94 2.06-2.06.94z\"/><path d=\"M17.41 7.96l-1.37-1.37c-.4-.4-.92-.59-1.43-.59-.52 0-1.04.2-1.43.59L10.3 9.45l-7.72 7.72c-.78.78-.78 2.05 0 2.83L4 21.41c.39.39.9.59 1.41.59.51 0 1.02-.2 1.41-.59l7.78-7.78 2.81-2.81c.8-.78.8-2.07 0-2.86zM5.41 20L4 18.59l7.72-7.72 1.47 1.35L5.41 20z\"/>\n",
              "  </svg>\n",
              "      </button>\n",
              "      \n",
              "  <style>\n",
              "    .colab-df-container {\n",
              "      display:flex;\n",
              "      flex-wrap:wrap;\n",
              "      gap: 12px;\n",
              "    }\n",
              "\n",
              "    .colab-df-convert {\n",
              "      background-color: #E8F0FE;\n",
              "      border: none;\n",
              "      border-radius: 50%;\n",
              "      cursor: pointer;\n",
              "      display: none;\n",
              "      fill: #1967D2;\n",
              "      height: 32px;\n",
              "      padding: 0 0 0 0;\n",
              "      width: 32px;\n",
              "    }\n",
              "\n",
              "    .colab-df-convert:hover {\n",
              "      background-color: #E2EBFA;\n",
              "      box-shadow: 0px 1px 2px rgba(60, 64, 67, 0.3), 0px 1px 3px 1px rgba(60, 64, 67, 0.15);\n",
              "      fill: #174EA6;\n",
              "    }\n",
              "\n",
              "    [theme=dark] .colab-df-convert {\n",
              "      background-color: #3B4455;\n",
              "      fill: #D2E3FC;\n",
              "    }\n",
              "\n",
              "    [theme=dark] .colab-df-convert:hover {\n",
              "      background-color: #434B5C;\n",
              "      box-shadow: 0px 1px 3px 1px rgba(0, 0, 0, 0.15);\n",
              "      filter: drop-shadow(0px 1px 2px rgba(0, 0, 0, 0.3));\n",
              "      fill: #FFFFFF;\n",
              "    }\n",
              "  </style>\n",
              "\n",
              "      <script>\n",
              "        const buttonEl =\n",
              "          document.querySelector('#df-f71a8619-681a-4d71-a33e-5d844fce1bc9 button.colab-df-convert');\n",
              "        buttonEl.style.display =\n",
              "          google.colab.kernel.accessAllowed ? 'block' : 'none';\n",
              "\n",
              "        async function convertToInteractive(key) {\n",
              "          const element = document.querySelector('#df-f71a8619-681a-4d71-a33e-5d844fce1bc9');\n",
              "          const dataTable =\n",
              "            await google.colab.kernel.invokeFunction('convertToInteractive',\n",
              "                                                     [key], {});\n",
              "          if (!dataTable) return;\n",
              "\n",
              "          const docLinkHtml = 'Like what you see? Visit the ' +\n",
              "            '<a target=\"_blank\" href=https://colab.research.google.com/notebooks/data_table.ipynb>data table notebook</a>'\n",
              "            + ' to learn more about interactive tables.';\n",
              "          element.innerHTML = '';\n",
              "          dataTable['output_type'] = 'display_data';\n",
              "          await google.colab.output.renderOutput(dataTable, element);\n",
              "          const docLink = document.createElement('div');\n",
              "          docLink.innerHTML = docLinkHtml;\n",
              "          element.appendChild(docLink);\n",
              "        }\n",
              "      </script>\n",
              "    </div>\n",
              "  </div>\n",
              "  "
            ]
          },
          "metadata": {},
          "execution_count": 26
        }
      ]
    },
    {
      "cell_type": "markdown",
      "source": [
        "### Plot Important Features per Joint"
      ],
      "metadata": {
        "id": "bdpKGiwgK3DB"
      }
    },
    {
      "cell_type": "code",
      "source": [
        "def plot_major_JA_feature_importance_as_array_of_subplots(df, plot_name):\n",
        "    fig, axs = plt.subplots(2, 4, figsize=(24,8), constrained_layout=True)\n",
        "\n",
        "    for ax, val in zip(axs.flat, df.columns):\n",
        "\n",
        "        ax.set_title(f'{val}')\n",
        "        ax.set_xlabel('Permutation Importance', fontsize=10)\n",
        "\n",
        "        sorted_series = df[val].sort_values(ascending=True)\n",
        "        # sorted_series = sorted_series.head(5)\n",
        "        ax.barh(sorted_series.index, sorted_series, align='center')\n",
        "\n",
        "    fig.suptitle(plot_name, fontsize=25)\n",
        "\n",
        "plot_major_JA_feature_importance_as_array_of_subplots(important_features_data_df, 'Feature Importance per Joint')"
      ],
      "metadata": {
        "colab": {
          "base_uri": "https://localhost:8080/",
          "height": 361
        },
        "id": "k8ASeS8xKx8l",
        "outputId": "cb4e4d0a-9b32-4cfb-9c53-d4b818543d6a"
      },
      "execution_count": 27,
      "outputs": [
        {
          "output_type": "display_data",
          "data": {
            "text/plain": [
              "<Figure size 1728x576 with 8 Axes>"
            ],
            "image/png": "[encoded data removed]"
          },
          "metadata": {
            "needs_background": "light"
          }
        }
      ]
    },
    {
      "cell_type": "markdown",
      "source": [
        "### Plot Train-Test Scores"
      ],
      "metadata": {
        "id": "XZS4OkbrLBPF"
      }
    },
    {
      "cell_type": "code",
      "source": [
        "X_axis = np.arange(len(df_results))\n",
        "  \n",
        "plt.bar(X_axis - 0.2, df_results['Training Score'], 0.4, label = 'Training Score')\n",
        "plt.bar(X_axis + 0.2, df_results['Testing Score'], 0.4, label = 'Testing Score')\n",
        "  \n",
        "plt.xticks(X_axis, df_results['Joint'])\n",
        "plt.xlabel(\"Joints\")\n",
        "plt.ylabel(\"Score\")\n",
        "plt.title(\"Train-Test Scores\")\n",
        "plt.legend()\n",
        "plt.show()"
      ],
      "metadata": {
        "colab": {
          "base_uri": "https://localhost:8080/",
          "height": 296
        },
        "id": "ybC3HoCQLDZt",
        "outputId": "efffa237-e675-4075-e616-a5f5a6daf9d6"
      },
      "execution_count": 28,
      "outputs": [
        {
          "output_type": "display_data",
          "data": {
            "text/plain": [
              "<Figure size 432x288 with 1 Axes>"
            ],
            "image/png": "[encoded data removed]"
          },
          "metadata": {
            "needs_background": "light"
          }
        }
      ]
    },
    {
      "cell_type": "markdown",
      "source": [
        "### Save Models for each Joint"
      ],
      "metadata": {
        "id": "LuW5P26ZXLdw"
      }
    },
    {
      "cell_type": "code",
      "source": [
        "MODEL_SAVE_PATH_ROOT = '/content/gdrive/MyDrive/ColabNotebooks/BiomechanicsAnalysis/___WORKOUTS/models/xgb'\n",
        "\n",
        "for joint in joint_model.keys():\n",
        "\n",
        "    save_path = os.path.join(MODEL_SAVE_PATH_ROOT, f\"{joint}_model.json\")\n",
        "    joint_model[joint].save_model(save_path)   "
      ],
      "metadata": {
        "id": "ZHXBwhNXSnvf"
      },
      "execution_count": 31,
      "outputs": []
    }
  ]
}