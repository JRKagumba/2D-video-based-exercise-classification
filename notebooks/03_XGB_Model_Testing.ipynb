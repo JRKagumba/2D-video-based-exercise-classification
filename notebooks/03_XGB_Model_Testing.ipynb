{
  "nbformat": 4,
  "nbformat_minor": 0,
  "metadata": {
    "colab": {
      "provenance": [],
      "authorship_tag": "ABX9TyO/hB/L64G52mpasbCkXisU",
      "include_colab_link": true
    },
    "kernelspec": {
      "name": "python3",
      "display_name": "Python 3"
    },
    "language_info": {
      "name": "python"
    }
  },
  "cells": [
    {
      "cell_type": "markdown",
      "metadata": {
        "id": "view-in-github",
        "colab_type": "text"
      },
      "source": [
        "<a href=\"https://colab.research.google.com/github/JRKagumba/2D-video-based-exercise-classification/blob/main/notebooks/03_XGB_Model_Testing.ipynb\" target=\"_parent\"><img src=\"https://colab.research.google.com/assets/colab-badge.svg\" alt=\"Open In Colab\"/></a>"
      ]
    },
    {
      "cell_type": "markdown",
      "source": [
        "### Mount Drive"
      ],
      "metadata": {
        "id": "_2icnzIqYD8p"
      }
    },
    {
      "cell_type": "code",
      "execution_count": 125,
      "metadata": {
        "colab": {
          "base_uri": "https://localhost:8080/"
        },
        "id": "Bc6UHqnNXoa4",
        "outputId": "db134f08-937e-4607-b87c-843fea146547"
      },
      "outputs": [
        {
          "output_type": "stream",
          "name": "stdout",
          "text": [
            "Drive already mounted at /content/gdrive; to attempt to forcibly remount, call drive.mount(\"/content/gdrive\", force_remount=True).\n"
          ]
        }
      ],
      "source": [
        "from google.colab import drive\n",
        "drive.mount('/content/gdrive')"
      ]
    },
    {
      "cell_type": "markdown",
      "source": [
        "### Install Libraries"
      ],
      "metadata": {
        "id": "PA72WXHnYRyu"
      }
    },
    {
      "cell_type": "code",
      "source": [
        "!pip install cesium"
      ],
      "metadata": {
        "colab": {
          "base_uri": "https://localhost:8080/"
        },
        "id": "QiYC5MHCYHKi",
        "outputId": "9d0eb658-9ff4-4f56-8b2a-4b2101a34b3c"
      },
      "execution_count": 126,
      "outputs": [
        {
          "output_type": "stream",
          "name": "stdout",
          "text": [
            "Looking in indexes: https://pypi.org/simple, https://us-python.pkg.dev/colab-wheels/public/simple/\n",
            "Requirement already satisfied: cesium in /usr/local/lib/python3.7/dist-packages (0.10.1)\n",
            "Requirement already satisfied: dask>=2.5.0 in /usr/local/lib/python3.7/dist-packages (from cesium) (2022.2.0)\n",
            "Requirement already satisfied: scikit-learn>=0.22.1 in /usr/local/lib/python3.7/dist-packages (from cesium) (1.0.2)\n",
            "Requirement already satisfied: toolz in /usr/local/lib/python3.7/dist-packages (from cesium) (0.12.0)\n",
            "Requirement already satisfied: cloudpickle in /usr/local/lib/python3.7/dist-packages (from cesium) (1.5.0)\n",
            "Requirement already satisfied: joblib>=0.14.1 in /usr/local/lib/python3.7/dist-packages (from cesium) (1.1.0)\n",
            "Requirement already satisfied: scipy>=0.16.0 in /usr/local/lib/python3.7/dist-packages (from cesium) (1.7.3)\n",
            "Requirement already satisfied: gatspy>=0.3.0 in /usr/local/lib/python3.7/dist-packages (from cesium) (0.3)\n",
            "Requirement already satisfied: pandas>=0.17.0 in /usr/local/lib/python3.7/dist-packages (from cesium) (1.3.5)\n",
            "Requirement already satisfied: packaging>=20.0 in /usr/local/lib/python3.7/dist-packages (from dask>=2.5.0->cesium) (21.3)\n",
            "Requirement already satisfied: pyyaml>=5.3.1 in /usr/local/lib/python3.7/dist-packages (from dask>=2.5.0->cesium) (6.0)\n",
            "Requirement already satisfied: partd>=0.3.10 in /usr/local/lib/python3.7/dist-packages (from dask>=2.5.0->cesium) (1.3.0)\n",
            "Requirement already satisfied: fsspec>=0.6.0 in /usr/local/lib/python3.7/dist-packages (from dask>=2.5.0->cesium) (2022.8.2)\n",
            "Requirement already satisfied: pyparsing!=3.0.5,>=2.0.2 in /usr/local/lib/python3.7/dist-packages (from packaging>=20.0->dask>=2.5.0->cesium) (3.0.9)\n",
            "Requirement already satisfied: python-dateutil>=2.7.3 in /usr/local/lib/python3.7/dist-packages (from pandas>=0.17.0->cesium) (2.8.2)\n",
            "Requirement already satisfied: numpy>=1.17.3 in /usr/local/lib/python3.7/dist-packages (from pandas>=0.17.0->cesium) (1.21.6)\n",
            "Requirement already satisfied: pytz>=2017.3 in /usr/local/lib/python3.7/dist-packages (from pandas>=0.17.0->cesium) (2022.2.1)\n",
            "Requirement already satisfied: locket in /usr/local/lib/python3.7/dist-packages (from partd>=0.3.10->dask>=2.5.0->cesium) (1.0.0)\n",
            "Requirement already satisfied: six>=1.5 in /usr/local/lib/python3.7/dist-packages (from python-dateutil>=2.7.3->pandas>=0.17.0->cesium) (1.15.0)\n",
            "Requirement already satisfied: threadpoolctl>=2.0.0 in /usr/local/lib/python3.7/dist-packages (from scikit-learn>=0.22.1->cesium) (3.1.0)\n"
          ]
        }
      ]
    },
    {
      "cell_type": "code",
      "source": [
        "import os\n",
        "import cesium\n",
        "import xgboost as xgb\n",
        "import numpy as np\n",
        "import pandas as pd\n",
        "\n",
        "from cesium import featurize as ft\n",
        "import matplotlib.pyplot as plt\n",
        "\n",
        "from cesium import featurize as ft\n",
        "import matplotlib.pyplot as plt"
      ],
      "metadata": {
        "id": "SGFcNI0EYXAK"
      },
      "execution_count": 127,
      "outputs": []
    },
    {
      "cell_type": "markdown",
      "source": [
        "### Initialize Data Scturctures and Functions"
      ],
      "metadata": {
        "id": "3SCwtGtkZT3q"
      }
    },
    {
      "cell_type": "code",
      "source": [
        "PROJ_WORKOUTS_ROOT = os.path.join('/content/gdrive/MyDrive/ColabNotebooks/BiomechanicsAnalysis/___WORKOUTS/data/tests/processed')\n",
        "\n",
        "workout_types = os.listdir(PROJ_WORKOUTS_ROOT)\n",
        "\n",
        "joint_angles_list = ['L_ELB',\t'R_ELB',\n",
        "                     'L_SHO','R_SHO',\n",
        "                     'L_HIP','R_HIP',\n",
        "                     'L_KNE','R_KNE']\n",
        "\n",
        "data_dict = {\n",
        "    'burpees_test':[],\n",
        "    'jumping_jacks_test':[],\n",
        "    'mountain_climbers_test':[],\n",
        "    'pushups_test':[],\n",
        "    'squats_test':[],\n",
        "    'other_test' : []\n",
        "}\n",
        "\n",
        "\n"
      ],
      "metadata": {
        "id": "UCPTtwsYZYo-"
      },
      "execution_count": 128,
      "outputs": []
    },
    {
      "cell_type": "markdown",
      "source": [
        "### Load in Test DataFrames"
      ],
      "metadata": {
        "id": "CpOKEwslZ3_S"
      }
    },
    {
      "cell_type": "code",
      "source": [
        "for workout_type in workout_types:\n",
        "    workout_samples = os.listdir(os.path.join(PROJ_WORKOUTS_ROOT, workout_type)) \n",
        "    for sample in workout_samples:\n",
        "        sample_csv_path = os.path.join(PROJ_WORKOUTS_ROOT, workout_type, sample, f'{sample}_joint_angles.csv')\n",
        "\n",
        "        df = pd.read_csv(sample_csv_path)\n",
        "        data_dict[workout_type].append(df)"
      ],
      "metadata": {
        "id": "iEys58JFZ7wZ"
      },
      "execution_count": 129,
      "outputs": []
    },
    {
      "cell_type": "markdown",
      "source": [
        "### Convert Test DataFrames to Feature Set DataFrames"
      ],
      "metadata": {
        "id": "GAzyhPsNacRe"
      }
    },
    {
      "cell_type": "code",
      "source": [
        "JA_df_dict = {}\n",
        "\n",
        "for joint_angle in joint_angles_list:\n",
        "\n",
        "    dataframe_lst = []\n",
        "\n",
        "    for key, value_lst in data_dict.items():\n",
        "        for df in value_lst:\n",
        "            dataframe_lst.append(\n",
        "                {   \n",
        "                'times' : df.index.to_numpy(), \n",
        "                'values' : df[joint_angle].to_numpy(), \n",
        "                'classes' : key\n",
        "                }\n",
        "            )\n",
        "\n",
        "    JA_df_dict[joint_angle] = pd.DataFrame(dataframe_lst)"
      ],
      "metadata": {
        "id": "4RXZSVIGaiQe"
      },
      "execution_count": 130,
      "outputs": []
    },
    {
      "cell_type": "markdown",
      "source": [
        "### Convert all Dataframes to Dicts (this is the format cesium likes for feature generation)"
      ],
      "metadata": {
        "id": "wQQtqCZ2cDgO"
      }
    },
    {
      "cell_type": "code",
      "source": [
        "for key in JA_df_dict.keys():\n",
        "\n",
        "    JA_df_dict[key] = JA_df_dict[key].to_dict()\n",
        "\n",
        "    times = [value for value in JA_df_dict[key]['times'].values()]\n",
        "    values = [value for value in JA_df_dict[key]['values'].values()]\n",
        "    classes = np.array([value for value in JA_df_dict[key]['classes'].values()])\n",
        "\n",
        "\n",
        "    JA_df_dict[key]['times'] = times\n",
        "    JA_df_dict[key]['values'] = values\n",
        "    JA_df_dict[key]['classes'] = classes"
      ],
      "metadata": {
        "id": "MBYZxYK3b_te"
      },
      "execution_count": 131,
      "outputs": []
    },
    {
      "cell_type": "markdown",
      "source": [
        "### Create a dict of features for each joint angle time series set"
      ],
      "metadata": {
        "id": "QC2f6NWScPSY"
      }
    },
    {
      "cell_type": "code",
      "source": [
        "features_to_use = [    \n",
        "    \"amplitude\",\n",
        "    \"percent_beyond_1_std\",\n",
        "    \"maximum\",\n",
        "    \"max_slope\",\n",
        "    \"median\",\n",
        "    \"median_absolute_deviation\",\n",
        "    \"percent_close_to_median\",\n",
        "    \"minimum\",\n",
        "    \"skew\",\n",
        "    \"std\",\n",
        "    \"weighted_average\"]\n",
        "\n",
        "features_df_dict = {}\n",
        "\n",
        "for key in JA_df_dict.keys():\n",
        "\n",
        "    features_df_dict[key] = ft.featurize_time_series(times=JA_df_dict[key]['times'],\n",
        "                                              values=JA_df_dict[key][\"values\"],\n",
        "                                              errors=None,\n",
        "                                              features_to_use=features_to_use,\n",
        "                                              scheduler=None)\n",
        "    \n",
        "    features_df_dict[key]['classes'] = JA_df_dict[key]['classes']\n",
        "    features_df_dict[key].columns =  features_df_dict[key].columns.droplevel(-1)\n",
        "\n",
        "features_df_dict['L_ELB'].head(3)"
      ],
      "metadata": {
        "colab": {
          "base_uri": "https://localhost:8080/",
          "height": 207
        },
        "id": "s8d7sWzHcUMI",
        "outputId": "cbfd3094-e6c0-4b14-973f-fe1f9e47f48a"
      },
      "execution_count": 132,
      "outputs": [
        {
          "output_type": "execute_result",
          "data": {
            "text/plain": [
              "feature  amplitude  percent_beyond_1_std     maximum   max_slope      median  \\\n",
              "0        87.721484              0.210863  175.474049  105.679419  147.797260   \n",
              "1        88.687373              0.329032  179.894833  165.427674  155.408061   \n",
              "2        86.951540              0.287190  179.978259  120.040066  168.104734   \n",
              "\n",
              "feature  median_absolute_deviation  percent_close_to_median   minimum  \\\n",
              "0                        21.631930                 0.351438  0.031081   \n",
              "1                        20.931954                 0.365591  2.520087   \n",
              "2                        10.773445                 0.613636  6.075179   \n",
              "\n",
              "feature      skew        std  weighted_average       classes  \n",
              "0       -1.039510  46.315788        126.740489  burpees_test  \n",
              "1       -0.563739  62.550092        117.715181  burpees_test  \n",
              "2       -0.771645  60.925121        129.081233  burpees_test  "
            ],
            "text/html": [
              "\n",
              "  <div id=\"df-dd5f7cef-4e59-46fa-ac78-524331fb1a7a\">\n",
              "    <div class=\"colab-df-container\">\n",
              "      <div>\n",
              "<style scoped>\n",
              "    .dataframe tbody tr th:only-of-type {\n",
              "        vertical-align: middle;\n",
              "    }\n",
              "\n",
              "    .dataframe tbody tr th {\n",
              "        vertical-align: top;\n",
              "    }\n",
              "\n",
              "    .dataframe thead th {\n",
              "        text-align: right;\n",
              "    }\n",
              "</style>\n",
              "<table border=\"1\" class=\"dataframe\">\n",
              "  <thead>\n",
              "    <tr style=\"text-align: right;\">\n",
              "      <th>feature</th>\n",
              "      <th>amplitude</th>\n",
              "      <th>percent_beyond_1_std</th>\n",
              "      <th>maximum</th>\n",
              "      <th>max_slope</th>\n",
              "      <th>median</th>\n",
              "      <th>median_absolute_deviation</th>\n",
              "      <th>percent_close_to_median</th>\n",
              "      <th>minimum</th>\n",
              "      <th>skew</th>\n",
              "      <th>std</th>\n",
              "      <th>weighted_average</th>\n",
              "      <th>classes</th>\n",
              "    </tr>\n",
              "  </thead>\n",
              "  <tbody>\n",
              "    <tr>\n",
              "      <th>0</th>\n",
              "      <td>87.721484</td>\n",
              "      <td>0.210863</td>\n",
              "      <td>175.474049</td>\n",
              "      <td>105.679419</td>\n",
              "      <td>147.797260</td>\n",
              "      <td>21.631930</td>\n",
              "      <td>0.351438</td>\n",
              "      <td>0.031081</td>\n",
              "      <td>-1.039510</td>\n",
              "      <td>46.315788</td>\n",
              "      <td>126.740489</td>\n",
              "      <td>burpees_test</td>\n",
              "    </tr>\n",
              "    <tr>\n",
              "      <th>1</th>\n",
              "      <td>88.687373</td>\n",
              "      <td>0.329032</td>\n",
              "      <td>179.894833</td>\n",
              "      <td>165.427674</td>\n",
              "      <td>155.408061</td>\n",
              "      <td>20.931954</td>\n",
              "      <td>0.365591</td>\n",
              "      <td>2.520087</td>\n",
              "      <td>-0.563739</td>\n",
              "      <td>62.550092</td>\n",
              "      <td>117.715181</td>\n",
              "      <td>burpees_test</td>\n",
              "    </tr>\n",
              "    <tr>\n",
              "      <th>2</th>\n",
              "      <td>86.951540</td>\n",
              "      <td>0.287190</td>\n",
              "      <td>179.978259</td>\n",
              "      <td>120.040066</td>\n",
              "      <td>168.104734</td>\n",
              "      <td>10.773445</td>\n",
              "      <td>0.613636</td>\n",
              "      <td>6.075179</td>\n",
              "      <td>-0.771645</td>\n",
              "      <td>60.925121</td>\n",
              "      <td>129.081233</td>\n",
              "      <td>burpees_test</td>\n",
              "    </tr>\n",
              "  </tbody>\n",
              "</table>\n",
              "</div>\n",
              "      <button class=\"colab-df-convert\" onclick=\"convertToInteractive('df-dd5f7cef-4e59-46fa-ac78-524331fb1a7a')\"\n",
              "              title=\"Convert this dataframe to an interactive table.\"\n",
              "              style=\"display:none;\">\n",
              "        \n",
              "  <svg xmlns=\"http://www.w3.org/2000/svg\" height=\"24px\"viewBox=\"0 0 24 24\"\n",
              "       width=\"24px\">\n",
              "    <path d=\"M0 0h24v24H0V0z\" fill=\"none\"/>\n",
              "    <path d=\"M18.56 5.44l.94 2.06.94-2.06 2.06-.94-2.06-.94-.94-2.06-.94 2.06-2.06.94zm-11 1L8.5 8.5l.94-2.06 2.06-.94-2.06-.94L8.5 2.5l-.94 2.06-2.06.94zm10 10l.94 2.06.94-2.06 2.06-.94-2.06-.94-.94-2.06-.94 2.06-2.06.94z\"/><path d=\"M17.41 7.96l-1.37-1.37c-.4-.4-.92-.59-1.43-.59-.52 0-1.04.2-1.43.59L10.3 9.45l-7.72 7.72c-.78.78-.78 2.05 0 2.83L4 21.41c.39.39.9.59 1.41.59.51 0 1.02-.2 1.41-.59l7.78-7.78 2.81-2.81c.8-.78.8-2.07 0-2.86zM5.41 20L4 18.59l7.72-7.72 1.47 1.35L5.41 20z\"/>\n",
              "  </svg>\n",
              "      </button>\n",
              "      \n",
              "  <style>\n",
              "    .colab-df-container {\n",
              "      display:flex;\n",
              "      flex-wrap:wrap;\n",
              "      gap: 12px;\n",
              "    }\n",
              "\n",
              "    .colab-df-convert {\n",
              "      background-color: #E8F0FE;\n",
              "      border: none;\n",
              "      border-radius: 50%;\n",
              "      cursor: pointer;\n",
              "      display: none;\n",
              "      fill: #1967D2;\n",
              "      height: 32px;\n",
              "      padding: 0 0 0 0;\n",
              "      width: 32px;\n",
              "    }\n",
              "\n",
              "    .colab-df-convert:hover {\n",
              "      background-color: #E2EBFA;\n",
              "      box-shadow: 0px 1px 2px rgba(60, 64, 67, 0.3), 0px 1px 3px 1px rgba(60, 64, 67, 0.15);\n",
              "      fill: #174EA6;\n",
              "    }\n",
              "\n",
              "    [theme=dark] .colab-df-convert {\n",
              "      background-color: #3B4455;\n",
              "      fill: #D2E3FC;\n",
              "    }\n",
              "\n",
              "    [theme=dark] .colab-df-convert:hover {\n",
              "      background-color: #434B5C;\n",
              "      box-shadow: 0px 1px 3px 1px rgba(0, 0, 0, 0.15);\n",
              "      filter: drop-shadow(0px 1px 2px rgba(0, 0, 0, 0.3));\n",
              "      fill: #FFFFFF;\n",
              "    }\n",
              "  </style>\n",
              "\n",
              "      <script>\n",
              "        const buttonEl =\n",
              "          document.querySelector('#df-dd5f7cef-4e59-46fa-ac78-524331fb1a7a button.colab-df-convert');\n",
              "        buttonEl.style.display =\n",
              "          google.colab.kernel.accessAllowed ? 'block' : 'none';\n",
              "\n",
              "        async function convertToInteractive(key) {\n",
              "          const element = document.querySelector('#df-dd5f7cef-4e59-46fa-ac78-524331fb1a7a');\n",
              "          const dataTable =\n",
              "            await google.colab.kernel.invokeFunction('convertToInteractive',\n",
              "                                                     [key], {});\n",
              "          if (!dataTable) return;\n",
              "\n",
              "          const docLinkHtml = 'Like what you see? Visit the ' +\n",
              "            '<a target=\"_blank\" href=https://colab.research.google.com/notebooks/data_table.ipynb>data table notebook</a>'\n",
              "            + ' to learn more about interactive tables.';\n",
              "          element.innerHTML = '';\n",
              "          dataTable['output_type'] = 'display_data';\n",
              "          await google.colab.output.renderOutput(dataTable, element);\n",
              "          const docLink = document.createElement('div');\n",
              "          docLink.innerHTML = docLinkHtml;\n",
              "          element.appendChild(docLink);\n",
              "        }\n",
              "      </script>\n",
              "    </div>\n",
              "  </div>\n",
              "  "
            ]
          },
          "metadata": {},
          "execution_count": 132
        }
      ]
    },
    {
      "cell_type": "markdown",
      "source": [
        "### Load Models"
      ],
      "metadata": {
        "id": "Ezi7ByXWZJQF"
      }
    },
    {
      "cell_type": "code",
      "source": [
        "import pickle\n",
        "MODELS_ROOT_PATH = '/content/gdrive/MyDrive/ColabNotebooks/BiomechanicsAnalysis/___WORKOUTS/models/xgb'\n",
        "\n",
        "\n",
        "\n",
        "json_joint_model = {}\n",
        "pkle_joint_model = {}\n",
        "\n",
        "\n",
        "for joint in joint_angles_list:\n",
        "\n",
        "    json_model_path = os.path.join(MODELS_ROOT_PATH, f'{joint}_model.json')\n",
        "    pkle_model_path = os.path.join(MODELS_ROOT_PATH, f'{joint}_model.pkl')\n",
        "\n",
        "\n",
        "\n",
        "    pkle_joint_model[joint] = pickle.load(open(pkle_model_path, \"rb\"))\n",
        "\n",
        "\n",
        "\n",
        "    model_xgb = xgb.XGBClassifier()\n",
        "    # model_xgb = xgb.Booster()\n",
        "    model_xgb.load_model(json_model_path)\n",
        "\n",
        "    json_joint_model[joint] = model_xgb\n",
        "\n",
        "\n",
        "    \n",
        "# joint_model['L_ELB'].best_ntree_limit"
      ],
      "metadata": {
        "id": "IgPaK6SNZPza"
      },
      "execution_count": 133,
      "outputs": []
    },
    {
      "cell_type": "code",
      "source": [
        "X = features_df_dict['R_SHO'].iloc[:, :-1].values\n",
        "y = features_df_dict['R_SHO'].iloc[:, -1].values"
      ],
      "metadata": {
        "id": "UhUgc-oBe0c5"
      },
      "execution_count": 134,
      "outputs": []
    },
    {
      "cell_type": "code",
      "source": [
        "print(X[0].reshape(1, 11), y[0])\n",
        "pkle_joint_model['R_SHO'].predict(X[0].reshape(1, 11))"
      ],
      "metadata": {
        "colab": {
          "base_uri": "https://localhost:8080/"
        },
        "id": "CpmajeQPmemx",
        "outputId": "e429a6bb-2043-42e0-aed3-eb6bb4072d35"
      },
      "execution_count": 135,
      "outputs": [
        {
          "output_type": "stream",
          "name": "stdout",
          "text": [
            "[[ 89.29443773   0.35463259 179.4373727  114.3942436   67.58863914\n",
            "   28.79611356   0.34824281   0.84849724   0.22199602  36.78055473\n",
            "   71.38283947]] burpees_test\n"
          ]
        },
        {
          "output_type": "execute_result",
          "data": {
            "text/plain": [
              "array(['burpees'], dtype=object)"
            ]
          },
          "metadata": {},
          "execution_count": 135
        }
      ]
    },
    {
      "cell_type": "code",
      "source": [
        "actual  = [exercise[:-5] for exercise in y]\n",
        "predicted = [pkle_joint_model['R_SHO'].predict(X[index].reshape(1, 11))[0] for index in range(len(X)-1)]"
      ],
      "metadata": {
        "id": "u2R3X-w-JA-t"
      },
      "execution_count": 136,
      "outputs": []
    },
    {
      "cell_type": "code",
      "source": [
        "# print(actual)\n",
        "# print(predicted)\n",
        "\n",
        "\n",
        "df = pd.DataFrame(list(zip(actual, predicted)),\n",
        "               columns =['Actual', 'Predicted'])"
      ],
      "metadata": {
        "id": "J-FcVU_MLLcb"
      },
      "execution_count": 137,
      "outputs": []
    },
    {
      "cell_type": "code",
      "source": [
        "non_other_df = df[df['Actual'] != 'other']\n",
        "\n",
        "print(non_other_df[non_other_df['Actual']==non_other_df['Predicted']].count())"
      ],
      "metadata": {
        "colab": {
          "base_uri": "https://localhost:8080/"
        },
        "id": "dL830_DvMY6o",
        "outputId": "91225add-bd71-49ba-b3af-c5a2318f4540"
      },
      "execution_count": 138,
      "outputs": [
        {
          "output_type": "stream",
          "name": "stdout",
          "text": [
            "Actual       11\n",
            "Predicted    11\n",
            "dtype: int64\n"
          ]
        }
      ]
    },
    {
      "cell_type": "code",
      "source": [
        "sum(non_other_df['Actual']==non_other_df['Predicted'])\n",
        "\n",
        "len(non_other_df)"
      ],
      "metadata": {
        "colab": {
          "base_uri": "https://localhost:8080/"
        },
        "id": "iwK11mAPPuaP",
        "outputId": "b859f3e3-5277-4a33-cdf8-ade540c25eb2"
      },
      "execution_count": 139,
      "outputs": [
        {
          "output_type": "execute_result",
          "data": {
            "text/plain": [
              "22"
            ]
          },
          "metadata": {},
          "execution_count": 139
        }
      ]
    },
    {
      "cell_type": "code",
      "source": [
        "joint_scores_dict = {}\n",
        "\n",
        "for joint in joint_angles_list:\n",
        "    \n",
        "    X = features_df_dict[joint].iloc[:, :-1].values\n",
        "    y = features_df_dict[joint].iloc[:, -1].values\n",
        "\n",
        "    actual  = [exercise[:-5] for exercise in y]\n",
        "    predicted = [pkle_joint_model[joint].predict(X[index].reshape(1, 11))[0] for index in range(len(X)-1)]\n",
        "\n",
        "    df = pd.DataFrame(list(zip(actual, predicted)),columns =['Actual', 'Predicted'])\n",
        "    non_other_df = df[df['Actual'] != 'other']\n",
        "\n",
        "    joint_scores_dict[joint] = [round(sum(non_other_df['Actual']==non_other_df['Predicted'])/len(non_other_df), 2)]\n",
        "\n",
        "joint_scores_df = pd.DataFrame(joint_scores_dict).T"
      ],
      "metadata": {
        "id": "xk39XSarN71o"
      },
      "execution_count": 147,
      "outputs": []
    },
    {
      "cell_type": "code",
      "source": [
        "\n",
        "\n",
        "# Set the figure size\n",
        "plt.figure(figsize=(8,4))\n",
        "plt.bar(joint_scores_df.index, (joint_scores_df[0])*100)\n",
        "plt.title(\"Prediction Scores per Joint\")\n",
        "\n",
        "plt.xlabel(\"Joints\")\n",
        "plt.ylabel(\"Percent Score\")\n",
        "plt.xticks(rotation=\"35\")\n",
        "\n",
        "plt.show()"
      ],
      "metadata": {
        "colab": {
          "base_uri": "https://localhost:8080/",
          "height": 313
        },
        "id": "RGMEGBJ6R0vj",
        "outputId": "735319d9-3147-49ec-f97f-12519707cc06"
      },
      "execution_count": 164,
      "outputs": [
        {
          "output_type": "display_data",
          "data": {
            "text/plain": [
              "<Figure size 576x288 with 1 Axes>"
            ],
            "image/png": "[encoded data removed]"
          },
          "metadata": {
            "needs_background": "light"
          }
        }
      ]
    },
    {
      "cell_type": "code",
      "source": [
        "exercises_lst =  ['burpees', 'jumping_jacks', 'mountain_climbers', 'pushups','squats']\n",
        "exercises_scores_dict = {exercise : [0,0] for exercise in exercises_lst}\n",
        "\n",
        "\n",
        "for exercise in exercises_lst:\n",
        "    for joint in joint_angles_list:\n",
        "        \n",
        "        X = features_df_dict[joint].iloc[:, :-1].values\n",
        "        y = features_df_dict[joint].iloc[:, -1].values\n",
        "\n",
        "        actual  = [exercise[:-5] for exercise in y]\n",
        "        predicted = [pkle_joint_model[joint].predict(X[index].reshape(1, 11))[0] for index in range(len(X)-1)]\n",
        "\n",
        "        df = pd.DataFrame(list(zip(actual, predicted)),columns =['Actual', 'Predicted'])\n",
        "        non_other_df = df[df['Actual'] != 'other']\n",
        "\n",
        "        exercise_df = non_other_df[non_other_df['Actual'] == exercise]\n",
        "        exercises_scores_dict[exercise][0] += sum(exercise_df['Actual']==exercise_df['Predicted'])\n",
        "        exercises_scores_dict[exercise][1] += len(exercise_df)\n",
        "        \n",
        " \n",
        "\n",
        "exercises_scores_dict = {key : [ round(x/value[1],2) for x in value] \n",
        "                         for key, value in exercises_scores_dict.items()}\n",
        "\n",
        "exercises_scores_df = pd.DataFrame(exercises_scores_dict).T"
      ],
      "metadata": {
        "id": "qVHMz2WtSyYE"
      },
      "execution_count": 158,
      "outputs": []
    },
    {
      "cell_type": "code",
      "source": [
        "\n",
        "plt.figure(figsize=(8,4))\n",
        "plt.bar(exercises_scores_df.index, (exercises_scores_df[0])*100)\n",
        "plt.title(\"Prediction Scores per Exercise\")\n",
        "\n",
        "plt.ylabel(\"Percent Score\")\n",
        "plt.xticks(rotation=\"35\")\n",
        "\n",
        "plt.show()"
      ],
      "metadata": {
        "colab": {
          "base_uri": "https://localhost:8080/",
          "height": 335
        },
        "id": "ib0tFTTRU2ca",
        "outputId": "b9273f4f-8eca-4a14-e55d-0fb4bd4f7d4b"
      },
      "execution_count": 165,
      "outputs": [
        {
          "output_type": "display_data",
          "data": {
            "text/plain": [
              "<Figure size 576x288 with 1 Axes>"
            ],
            "image/png": "[encoded data removed]"
          },
          "metadata": {
            "needs_background": "light"
          }
        }
      ]
    },
    {
      "cell_type": "code",
      "source": [
        "joint_votes_dict = {exercise_index : [[],''] for exercise_index in range(22)}\n",
        "\n",
        "for exercise_index in range(22):\n",
        "    for joint in joint_angles_list:\n",
        "        \n",
        "        X = features_df_dict[joint].iloc[:, :-1].values\n",
        "        y = features_df_dict[joint].iloc[:, -1].values\n",
        "\n",
        "        predicted = pkle_joint_model[joint].predict(X[exercise_index].reshape(1, 11))[0] \n",
        "        actual  = y[exercise_index][:-5]\n",
        "\n",
        "        joint_votes_dict[exercise_index][0].append(predicted) \n",
        "        joint_votes_dict[exercise_index][1]=actual\n",
        "\n",
        "    joint_votes_dict[exercise_index][0] = max(joint_votes_dict[exercise_index][0], key=joint_votes_dict[exercise_index][0].count)"
      ],
      "metadata": {
        "id": "UU96f6uvfSWS"
      },
      "execution_count": 162,
      "outputs": []
    },
    {
      "cell_type": "code",
      "source": [
        "df = pd.DataFrame(joint_votes_dict).T.rename(columns={0: \"Predicted\", 1: \"Actual\"})\n",
        "\n",
        "round(len(df[df['Predicted'] == df['Actual']])/len(df), 2)"
      ],
      "metadata": {
        "colab": {
          "base_uri": "https://localhost:8080/"
        },
        "id": "vHC1OSIWqe3A",
        "outputId": "9b7f104b-914f-4021-bb9f-70fac376f2e8"
      },
      "execution_count": 163,
      "outputs": [
        {
          "output_type": "execute_result",
          "data": {
            "text/plain": [
              "0.86"
            ]
          },
          "metadata": {},
          "execution_count": 163
        }
      ]
    }
  ]
}