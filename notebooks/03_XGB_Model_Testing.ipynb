{
  "nbformat": 4,
  "nbformat_minor": 0,
  "metadata": {
    "colab": {
      "provenance": [],
      "authorship_tag": "ABX9TyPngDDWLOZ3kLB9T2zgEoE4",
      "include_colab_link": true
    },
    "kernelspec": {
      "name": "python3",
      "display_name": "Python 3"
    },
    "language_info": {
      "name": "python"
    }
  },
  "cells": [
    {
      "cell_type": "markdown",
      "metadata": {
        "id": "view-in-github",
        "colab_type": "text"
      },
      "source": [
        "<a href=\"https://colab.research.google.com/github/JRKagumba/2D-video-based-exercise-classification/blob/main/notebooks/03_XGB_Model_Testing.ipynb\" target=\"_parent\"><img src=\"https://colab.research.google.com/assets/colab-badge.svg\" alt=\"Open In Colab\"/></a>"
      ]
    },
    {
      "cell_type": "markdown",
      "source": [
        "### Mount Drive"
      ],
      "metadata": {
        "id": "_2icnzIqYD8p"
      }
    },
    {
      "cell_type": "code",
      "execution_count": 125,
      "metadata": {
        "colab": {
          "base_uri": "https://localhost:8080/"
        },
        "id": "Bc6UHqnNXoa4",
        "outputId": "db134f08-937e-4607-b87c-843fea146547"
      },
      "outputs": [
        {
          "output_type": "stream",
          "name": "stdout",
          "text": [
            "Drive already mounted at /content/gdrive; to attempt to forcibly remount, call drive.mount(\"/content/gdrive\", force_remount=True).\n"
          ]
        }
      ],
      "source": [
        "from google.colab import drive\n",
        "drive.mount('/content/gdrive')"
      ]
    },
    {
      "cell_type": "markdown",
      "source": [
        "### Install Libraries"
      ],
      "metadata": {
        "id": "PA72WXHnYRyu"
      }
    },
    {
      "cell_type": "code",
      "source": [
        "!pip install cesium"
      ],
      "metadata": {
        "colab": {
          "base_uri": "https://localhost:8080/"
        },
        "id": "QiYC5MHCYHKi",
        "outputId": "9d0eb658-9ff4-4f56-8b2a-4b2101a34b3c"
      },
      "execution_count": 126,
      "outputs": [
        {
          "output_type": "stream",
          "name": "stdout",
          "text": [
            "Looking in indexes: https://pypi.org/simple, https://us-python.pkg.dev/colab-wheels/public/simple/\n",
            "Requirement already satisfied: cesium in /usr/local/lib/python3.7/dist-packages (0.10.1)\n",
            "Requirement already satisfied: dask>=2.5.0 in /usr/local/lib/python3.7/dist-packages (from cesium) (2022.2.0)\n",
            "Requirement already satisfied: scikit-learn>=0.22.1 in /usr/local/lib/python3.7/dist-packages (from cesium) (1.0.2)\n",
            "Requirement already satisfied: toolz in /usr/local/lib/python3.7/dist-packages (from cesium) (0.12.0)\n",
            "Requirement already satisfied: cloudpickle in /usr/local/lib/python3.7/dist-packages (from cesium) (1.5.0)\n",
            "Requirement already satisfied: joblib>=0.14.1 in /usr/local/lib/python3.7/dist-packages (from cesium) (1.1.0)\n",
            "Requirement already satisfied: scipy>=0.16.0 in /usr/local/lib/python3.7/dist-packages (from cesium) (1.7.3)\n",
            "Requirement already satisfied: gatspy>=0.3.0 in /usr/local/lib/python3.7/dist-packages (from cesium) (0.3)\n",
            "Requirement already satisfied: pandas>=0.17.0 in /usr/local/lib/python3.7/dist-packages (from cesium) (1.3.5)\n",
            "Requirement already satisfied: packaging>=20.0 in /usr/local/lib/python3.7/dist-packages (from dask>=2.5.0->cesium) (21.3)\n",
            "Requirement already satisfied: pyyaml>=5.3.1 in /usr/local/lib/python3.7/dist-packages (from dask>=2.5.0->cesium) (6.0)\n",
            "Requirement already satisfied: partd>=0.3.10 in /usr/local/lib/python3.7/dist-packages (from dask>=2.5.0->cesium) (1.3.0)\n",
            "Requirement already satisfied: fsspec>=0.6.0 in /usr/local/lib/python3.7/dist-packages (from dask>=2.5.0->cesium) (2022.8.2)\n",
            "Requirement already satisfied: pyparsing!=3.0.5,>=2.0.2 in /usr/local/lib/python3.7/dist-packages (from packaging>=20.0->dask>=2.5.0->cesium) (3.0.9)\n",
            "Requirement already satisfied: python-dateutil>=2.7.3 in /usr/local/lib/python3.7/dist-packages (from pandas>=0.17.0->cesium) (2.8.2)\n",
            "Requirement already satisfied: numpy>=1.17.3 in /usr/local/lib/python3.7/dist-packages (from pandas>=0.17.0->cesium) (1.21.6)\n",
            "Requirement already satisfied: pytz>=2017.3 in /usr/local/lib/python3.7/dist-packages (from pandas>=0.17.0->cesium) (2022.2.1)\n",
            "Requirement already satisfied: locket in /usr/local/lib/python3.7/dist-packages (from partd>=0.3.10->dask>=2.5.0->cesium) (1.0.0)\n",
            "Requirement already satisfied: six>=1.5 in /usr/local/lib/python3.7/dist-packages (from python-dateutil>=2.7.3->pandas>=0.17.0->cesium) (1.15.0)\n",
            "Requirement already satisfied: threadpoolctl>=2.0.0 in /usr/local/lib/python3.7/dist-packages (from scikit-learn>=0.22.1->cesium) (3.1.0)\n"
          ]
        }
      ]
    },
    {
      "cell_type": "code",
      "source": [
        "import os\n",
        "import cesium\n",
        "import xgboost as xgb\n",
        "import numpy as np\n",
        "import pandas as pd\n",
        "\n",
        "from cesium import featurize as ft\n",
        "import matplotlib.pyplot as plt\n",
        "\n",
        "from cesium import featurize as ft\n",
        "import matplotlib.pyplot as plt"
      ],
      "metadata": {
        "id": "SGFcNI0EYXAK"
      },
      "execution_count": 127,
      "outputs": []
    },
    {
      "cell_type": "markdown",
      "source": [
        "### Initialize Data Scturctures and Functions"
      ],
      "metadata": {
        "id": "3SCwtGtkZT3q"
      }
    },
    {
      "cell_type": "code",
      "source": [
        "PROJ_WORKOUTS_ROOT = os.path.join('/content/gdrive/MyDrive/ColabNotebooks/BiomechanicsAnalysis/___WORKOUTS/data/tests/processed')\n",
        "\n",
        "workout_types = os.listdir(PROJ_WORKOUTS_ROOT)\n",
        "\n",
        "joint_angles_list = ['L_ELB',\t'R_ELB',\n",
        "                     'L_SHO','R_SHO',\n",
        "                     'L_HIP','R_HIP',\n",
        "                     'L_KNE','R_KNE']\n",
        "\n",
        "data_dict = {\n",
        "    'burpees_test':[],\n",
        "    'jumping_jacks_test':[],\n",
        "    'mountain_climbers_test':[],\n",
        "    'pushups_test':[],\n",
        "    'squats_test':[],\n",
        "    'other_test' : []\n",
        "}\n",
        "\n",
        "\n"
      ],
      "metadata": {
        "id": "UCPTtwsYZYo-"
      },
      "execution_count": 128,
      "outputs": []
    },
    {
      "cell_type": "markdown",
      "source": [
        "### Load in Test DataFrames"
      ],
      "metadata": {
        "id": "CpOKEwslZ3_S"
      }
    },
    {
      "cell_type": "code",
      "source": [
        "for workout_type in workout_types:\n",
        "    workout_samples = os.listdir(os.path.join(PROJ_WORKOUTS_ROOT, workout_type)) \n",
        "    for sample in workout_samples:\n",
        "        sample_csv_path = os.path.join(PROJ_WORKOUTS_ROOT, workout_type, sample, f'{sample}_joint_angles.csv')\n",
        "\n",
        "        df = pd.read_csv(sample_csv_path)\n",
        "        data_dict[workout_type].append(df)"
      ],
      "metadata": {
        "id": "iEys58JFZ7wZ"
      },
      "execution_count": 129,
      "outputs": []
    },
    {
      "cell_type": "markdown",
      "source": [
        "### Convert Test DataFrames to Feature Set DataFrames"
      ],
      "metadata": {
        "id": "GAzyhPsNacRe"
      }
    },
    {
      "cell_type": "code",
      "source": [
        "JA_df_dict = {}\n",
        "\n",
        "for joint_angle in joint_angles_list:\n",
        "\n",
        "    dataframe_lst = []\n",
        "\n",
        "    for key, value_lst in data_dict.items():\n",
        "        for df in value_lst:\n",
        "            dataframe_lst.append(\n",
        "                {   \n",
        "                'times' : df.index.to_numpy(), \n",
        "                'values' : df[joint_angle].to_numpy(), \n",
        "                'classes' : key\n",
        "                }\n",
        "            )\n",
        "\n",
        "    JA_df_dict[joint_angle] = pd.DataFrame(dataframe_lst)"
      ],
      "metadata": {
        "id": "4RXZSVIGaiQe"
      },
      "execution_count": 130,
      "outputs": []
    },
    {
      "cell_type": "markdown",
      "source": [
        "### Convert all Dataframes to Dicts (this is the format cesium likes for feature generation)"
      ],
      "metadata": {
        "id": "wQQtqCZ2cDgO"
      }
    },
    {
      "cell_type": "code",
      "source": [
        "for key in JA_df_dict.keys():\n",
        "\n",
        "    JA_df_dict[key] = JA_df_dict[key].to_dict()\n",
        "\n",
        "    times = [value for value in JA_df_dict[key]['times'].values()]\n",
        "    values = [value for value in JA_df_dict[key]['values'].values()]\n",
        "    classes = np.array([value for value in JA_df_dict[key]['classes'].values()])\n",
        "\n",
        "\n",
        "    JA_df_dict[key]['times'] = times\n",
        "    JA_df_dict[key]['values'] = values\n",
        "    JA_df_dict[key]['classes'] = classes"
      ],
      "metadata": {
        "id": "MBYZxYK3b_te"
      },
      "execution_count": 131,
      "outputs": []
    },
    {
      "cell_type": "markdown",
      "source": [
        "### Create a dict of features for each joint angle time series set"
      ],
      "metadata": {
        "id": "QC2f6NWScPSY"
      }
    },
    {
      "cell_type": "code",
      "source": [
        "features_to_use = [    \n",
        "    \"amplitude\",\n",
        "    \"percent_beyond_1_std\",\n",
        "    \"maximum\",\n",
        "    \"max_slope\",\n",
        "    \"median\",\n",
        "    \"median_absolute_deviation\",\n",
        "    \"percent_close_to_median\",\n",
        "    \"minimum\",\n",
        "    \"skew\",\n",
        "    \"std\",\n",
        "    \"weighted_average\"]\n",
        "\n",
        "features_df_dict = {}\n",
        "\n",
        "for key in JA_df_dict.keys():\n",
        "\n",
        "    features_df_dict[key] = ft.featurize_time_series(times=JA_df_dict[key]['times'],\n",
        "                                              values=JA_df_dict[key][\"values\"],\n",
        "                                              errors=None,\n",
        "                                              features_to_use=features_to_use,\n",
        "                                              scheduler=None)\n",
        "    \n",
        "    features_df_dict[key]['classes'] = JA_df_dict[key]['classes']\n",
        "    features_df_dict[key].columns =  features_df_dict[key].columns.droplevel(-1)\n",
        "\n",
        "features_df_dict['L_ELB'].head(3)"
      ],
      "metadata": {
        "colab": {
          "base_uri": "https://localhost:8080/",
          "height": 207
        },
        "id": "s8d7sWzHcUMI",
        "outputId": "cbfd3094-e6c0-4b14-973f-fe1f9e47f48a"
      },
      "execution_count": 132,
      "outputs": [
        {
          "output_type": "execute_result",
          "data": {
            "text/plain": [
              "feature  amplitude  percent_beyond_1_std     maximum   max_slope      median  \\\n",
              "0        87.721484              0.210863  175.474049  105.679419  147.797260   \n",
              "1        88.687373              0.329032  179.894833  165.427674  155.408061   \n",
              "2        86.951540              0.287190  179.978259  120.040066  168.104734   \n",
              "\n",
              "feature  median_absolute_deviation  percent_close_to_median   minimum  \\\n",
              "0                        21.631930                 0.351438  0.031081   \n",
              "1                        20.931954                 0.365591  2.520087   \n",
              "2                        10.773445                 0.613636  6.075179   \n",
              "\n",
              "feature      skew        std  weighted_average       classes  \n",
              "0       -1.039510  46.315788        126.740489  burpees_test  \n",
              "1       -0.563739  62.550092        117.715181  burpees_test  \n",
              "2       -0.771645  60.925121        129.081233  burpees_test  "
            ],
            "text/html": [
              "\n",
              "  <div id=\"df-dd5f7cef-4e59-46fa-ac78-524331fb1a7a\">\n",
              "    <div class=\"colab-df-container\">\n",
              "      <div>\n",
              "<style scoped>\n",
              "    .dataframe tbody tr th:only-of-type {\n",
              "        vertical-align: middle;\n",
              "    }\n",
              "\n",
              "    .dataframe tbody tr th {\n",
              "        vertical-align: top;\n",
              "    }\n",
              "\n",
              "    .dataframe thead th {\n",
              "        text-align: right;\n",
              "    }\n",
              "</style>\n",
              "<table border=\"1\" class=\"dataframe\">\n",
              "  <thead>\n",
              "    <tr style=\"text-align: right;\">\n",
              "      <th>feature</th>\n",
              "      <th>amplitude</th>\n",
              "      <th>percent_beyond_1_std</th>\n",
              "      <th>maximum</th>\n",
              "      <th>max_slope</th>\n",
              "      <th>median</th>\n",
              "      <th>median_absolute_deviation</th>\n",
              "      <th>percent_close_to_median</th>\n",
              "      <th>minimum</th>\n",
              "      <th>skew</th>\n",
              "      <th>std</th>\n",
              "      <th>weighted_average</th>\n",
              "      <th>classes</th>\n",
              "    </tr>\n",
              "  </thead>\n",
              "  <tbody>\n",
              "    <tr>\n",
              "      <th>0</th>\n",
              "      <td>87.721484</td>\n",
              "      <td>0.210863</td>\n",
              "      <td>175.474049</td>\n",
              "      <td>105.679419</td>\n",
              "      <td>147.797260</td>\n",
              "      <td>21.631930</td>\n",
              "      <td>0.351438</td>\n",
              "      <td>0.031081</td>\n",
              "      <td>-1.039510</td>\n",
              "      <td>46.315788</td>\n",
              "      <td>126.740489</td>\n",
              "      <td>burpees_test</td>\n",
              "    </tr>\n",
              "    <tr>\n",
              "      <th>1</th>\n",
              "      <td>88.687373</td>\n",
              "      <td>0.329032</td>\n",
              "      <td>179.894833</td>\n",
              "      <td>165.427674</td>\n",
              "      <td>155.408061</td>\n",
              "      <td>20.931954</td>\n",
              "      <td>0.365591</td>\n",
              "      <td>2.520087</td>\n",
              "      <td>-0.563739</td>\n",
              "      <td>62.550092</td>\n",
              "      <td>117.715181</td>\n",
              "      <td>burpees_test</td>\n",
              "    </tr>\n",
              "    <tr>\n",
              "      <th>2</th>\n",
              "      <td>86.951540</td>\n",
              "      <td>0.287190</td>\n",
              "      <td>179.978259</td>\n",
              "      <td>120.040066</td>\n",
              "      <td>168.104734</td>\n",
              "      <td>10.773445</td>\n",
              "      <td>0.613636</td>\n",
              "      <td>6.075179</td>\n",
              "      <td>-0.771645</td>\n",
              "      <td>60.925121</td>\n",
              "      <td>129.081233</td>\n",
              "      <td>burpees_test</td>\n",
              "    </tr>\n",
              "  </tbody>\n",
              "</table>\n",
              "</div>\n",
              "      <button class=\"colab-df-convert\" onclick=\"convertToInteractive('df-dd5f7cef-4e59-46fa-ac78-524331fb1a7a')\"\n",
              "              title=\"Convert this dataframe to an interactive table.\"\n",
              "              style=\"display:none;\">\n",
              "        \n",
              "  <svg xmlns=\"http://www.w3.org/2000/svg\" height=\"24px\"viewBox=\"0 0 24 24\"\n",
              "       width=\"24px\">\n",
              "    <path d=\"M0 0h24v24H0V0z\" fill=\"none\"/>\n",
              "    <path d=\"M18.56 5.44l.94 2.06.94-2.06 2.06-.94-2.06-.94-.94-2.06-.94 2.06-2.06.94zm-11 1L8.5 8.5l.94-2.06 2.06-.94-2.06-.94L8.5 2.5l-.94 2.06-2.06.94zm10 10l.94 2.06.94-2.06 2.06-.94-2.06-.94-.94-2.06-.94 2.06-2.06.94z\"/><path d=\"M17.41 7.96l-1.37-1.37c-.4-.4-.92-.59-1.43-.59-.52 0-1.04.2-1.43.59L10.3 9.45l-7.72 7.72c-.78.78-.78 2.05 0 2.83L4 21.41c.39.39.9.59 1.41.59.51 0 1.02-.2 1.41-.59l7.78-7.78 2.81-2.81c.8-.78.8-2.07 0-2.86zM5.41 20L4 18.59l7.72-7.72 1.47 1.35L5.41 20z\"/>\n",
              "  </svg>\n",
              "      </button>\n",
              "      \n",
              "  <style>\n",
              "    .colab-df-container {\n",
              "      display:flex;\n",
              "      flex-wrap:wrap;\n",
              "      gap: 12px;\n",
              "    }\n",
              "\n",
              "    .colab-df-convert {\n",
              "      background-color: #E8F0FE;\n",
              "      border: none;\n",
              "      border-radius: 50%;\n",
              "      cursor: pointer;\n",
              "      display: none;\n",
              "      fill: #1967D2;\n",
              "      height: 32px;\n",
              "      padding: 0 0 0 0;\n",
              "      width: 32px;\n",
              "    }\n",
              "\n",
              "    .colab-df-convert:hover {\n",
              "      background-color: #E2EBFA;\n",
              "      box-shadow: 0px 1px 2px rgba(60, 64, 67, 0.3), 0px 1px 3px 1px rgba(60, 64, 67, 0.15);\n",
              "      fill: #174EA6;\n",
              "    }\n",
              "\n",
              "    [theme=dark] .colab-df-convert {\n",
              "      background-color: #3B4455;\n",
              "      fill: #D2E3FC;\n",
              "    }\n",
              "\n",
              "    [theme=dark] .colab-df-convert:hover {\n",
              "      background-color: #434B5C;\n",
              "      box-shadow: 0px 1px 3px 1px rgba(0, 0, 0, 0.15);\n",
              "      filter: drop-shadow(0px 1px 2px rgba(0, 0, 0, 0.3));\n",
              "      fill: #FFFFFF;\n",
              "    }\n",
              "  </style>\n",
              "\n",
              "      <script>\n",
              "        const buttonEl =\n",
              "          document.querySelector('#df-dd5f7cef-4e59-46fa-ac78-524331fb1a7a button.colab-df-convert');\n",
              "        buttonEl.style.display =\n",
              "          google.colab.kernel.accessAllowed ? 'block' : 'none';\n",
              "\n",
              "        async function convertToInteractive(key) {\n",
              "          const element = document.querySelector('#df-dd5f7cef-4e59-46fa-ac78-524331fb1a7a');\n",
              "          const dataTable =\n",
              "            await google.colab.kernel.invokeFunction('convertToInteractive',\n",
              "                                                     [key], {});\n",
              "          if (!dataTable) return;\n",
              "\n",
              "          const docLinkHtml = 'Like what you see? Visit the ' +\n",
              "            '<a target=\"_blank\" href=https://colab.research.google.com/notebooks/data_table.ipynb>data table notebook</a>'\n",
              "            + ' to learn more about interactive tables.';\n",
              "          element.innerHTML = '';\n",
              "          dataTable['output_type'] = 'display_data';\n",
              "          await google.colab.output.renderOutput(dataTable, element);\n",
              "          const docLink = document.createElement('div');\n",
              "          docLink.innerHTML = docLinkHtml;\n",
              "          element.appendChild(docLink);\n",
              "        }\n",
              "      </script>\n",
              "    </div>\n",
              "  </div>\n",
              "  "
            ]
          },
          "metadata": {},
          "execution_count": 132
        }
      ]
    },
    {
      "cell_type": "markdown",
      "source": [
        "### Load Models"
      ],
      "metadata": {
        "id": "Ezi7ByXWZJQF"
      }
    },
    {
      "cell_type": "code",
      "source": [
        "import pickle\n",
        "MODELS_ROOT_PATH = '/content/gdrive/MyDrive/ColabNotebooks/BiomechanicsAnalysis/___WORKOUTS/models/xgb'\n",
        "\n",
        "\n",
        "\n",
        "json_joint_model = {}\n",
        "pkle_joint_model = {}\n",
        "\n",
        "\n",
        "for joint in joint_angles_list:\n",
        "\n",
        "    json_model_path = os.path.join(MODELS_ROOT_PATH, f'{joint}_model.json')\n",
        "    pkle_model_path = os.path.join(MODELS_ROOT_PATH, f'{joint}_model.pkl')\n",
        "\n",
        "\n",
        "\n",
        "    pkle_joint_model[joint] = pickle.load(open(pkle_model_path, \"rb\"))\n",
        "\n",
        "\n",
        "\n",
        "    model_xgb = xgb.XGBClassifier()\n",
        "    # model_xgb = xgb.Booster()\n",
        "    model_xgb.load_model(json_model_path)\n",
        "\n",
        "    json_joint_model[joint] = model_xgb\n",
        "\n",
        "\n",
        "    \n",
        "# joint_model['L_ELB'].best_ntree_limit"
      ],
      "metadata": {
        "id": "IgPaK6SNZPza"
      },
      "execution_count": 133,
      "outputs": []
    },
    {
      "cell_type": "code",
      "source": [
        "X = features_df_dict['R_SHO'].iloc[:, :-1].values\n",
        "y = features_df_dict['R_SHO'].iloc[:, -1].values"
      ],
      "metadata": {
        "id": "UhUgc-oBe0c5"
      },
      "execution_count": 134,
      "outputs": []
    },
    {
      "cell_type": "code",
      "source": [
        "print(X[0].reshape(1, 11), y[0])\n",
        "pkle_joint_model['R_SHO'].predict(X[0].reshape(1, 11))"
      ],
      "metadata": {
        "colab": {
          "base_uri": "https://localhost:8080/"
        },
        "id": "CpmajeQPmemx",
        "outputId": "e429a6bb-2043-42e0-aed3-eb6bb4072d35"
      },
      "execution_count": 135,
      "outputs": [
        {
          "output_type": "stream",
          "name": "stdout",
          "text": [
            "[[ 89.29443773   0.35463259 179.4373727  114.3942436   67.58863914\n",
            "   28.79611356   0.34824281   0.84849724   0.22199602  36.78055473\n",
            "   71.38283947]] burpees_test\n"
          ]
        },
        {
          "output_type": "execute_result",
          "data": {
            "text/plain": [
              "array(['burpees'], dtype=object)"
            ]
          },
          "metadata": {},
          "execution_count": 135
        }
      ]
    },
    {
      "cell_type": "code",
      "source": [
        "actual  = [exercise[:-5] for exercise in y]\n",
        "predicted = [pkle_joint_model['R_SHO'].predict(X[index].reshape(1, 11))[0] for index in range(len(X)-1)]"
      ],
      "metadata": {
        "id": "u2R3X-w-JA-t"
      },
      "execution_count": 136,
      "outputs": []
    },
    {
      "cell_type": "code",
      "source": [
        "# print(actual)\n",
        "# print(predicted)\n",
        "\n",
        "\n",
        "df = pd.DataFrame(list(zip(actual, predicted)),\n",
        "               columns =['Actual', 'Predicted'])"
      ],
      "metadata": {
        "id": "J-FcVU_MLLcb"
      },
      "execution_count": 137,
      "outputs": []
    },
    {
      "cell_type": "code",
      "source": [
        "non_other_df = df[df['Actual'] != 'other']\n",
        "\n",
        "print(non_other_df[non_other_df['Actual']==non_other_df['Predicted']].count())"
      ],
      "metadata": {
        "colab": {
          "base_uri": "https://localhost:8080/"
        },
        "id": "dL830_DvMY6o",
        "outputId": "91225add-bd71-49ba-b3af-c5a2318f4540"
      },
      "execution_count": 138,
      "outputs": [
        {
          "output_type": "stream",
          "name": "stdout",
          "text": [
            "Actual       11\n",
            "Predicted    11\n",
            "dtype: int64\n"
          ]
        }
      ]
    },
    {
      "cell_type": "code",
      "source": [
        "sum(non_other_df['Actual']==non_other_df['Predicted'])\n",
        "\n",
        "len(non_other_df)"
      ],
      "metadata": {
        "colab": {
          "base_uri": "https://localhost:8080/"
        },
        "id": "iwK11mAPPuaP",
        "outputId": "b859f3e3-5277-4a33-cdf8-ade540c25eb2"
      },
      "execution_count": 139,
      "outputs": [
        {
          "output_type": "execute_result",
          "data": {
            "text/plain": [
              "22"
            ]
          },
          "metadata": {},
          "execution_count": 139
        }
      ]
    },
    {
      "cell_type": "markdown",
      "source": [
        "### Predicting Scores Per Joint"
      ],
      "metadata": {
        "id": "z7B1D3-Dxb1n"
      }
    },
    {
      "cell_type": "code",
      "source": [
        "joint_scores_dict = {}\n",
        "\n",
        "for joint in joint_angles_list:\n",
        "    \n",
        "    X = features_df_dict[joint].iloc[:, :-1].values\n",
        "    y = features_df_dict[joint].iloc[:, -1].values\n",
        "\n",
        "    actual  = [exercise[:-5] for exercise in y]\n",
        "    predicted = [pkle_joint_model[joint].predict(X[index].reshape(1, 11))[0] for index in range(len(X)-1)]\n",
        "\n",
        "    df = pd.DataFrame(list(zip(actual, predicted)),columns =['Actual', 'Predicted'])\n",
        "    non_other_df = df[df['Actual'] != 'other']\n",
        "\n",
        "    joint_scores_dict[joint] = [round(sum(non_other_df['Actual']==non_other_df['Predicted'])/len(non_other_df), 2)]\n",
        "\n",
        "joint_scores_df = pd.DataFrame(joint_scores_dict).T"
      ],
      "metadata": {
        "id": "xk39XSarN71o"
      },
      "execution_count": 147,
      "outputs": []
    },
    {
      "cell_type": "code",
      "source": [
        "plt.figure(figsize=(8,4))\n",
        "plt.bar(joint_scores_df.index, (joint_scores_df[0])*100)\n",
        "plt.title(\"Prediction Scores per Joint\")\n",
        "\n",
        "plt.xlabel(\"Joints\")\n",
        "plt.ylabel(\"Percent Score\")\n",
        "plt.xticks(rotation=\"35\")\n",
        "\n",
        "plt.show()"
      ],
      "metadata": {
        "colab": {
          "base_uri": "https://localhost:8080/",
          "height": 313
        },
        "id": "RGMEGBJ6R0vj",
        "outputId": "735319d9-3147-49ec-f97f-12519707cc06"
      },
      "execution_count": 164,
      "outputs": [
        {
          "output_type": "display_data",
          "data": {
            "text/plain": [
              "<Figure size 576x288 with 1 Axes>"
            ],
            "image/png": "[encoded data removed]"
          },
          "metadata": {
            "needs_background": "light"
          }
        }
      ]
    },
    {
      "cell_type": "markdown",
      "source": [
        "### Predicting Scores per Exercise"
      ],
      "metadata": {
        "id": "XG2vRUZ4xg3E"
      }
    },
    {
      "cell_type": "code",
      "source": [
        "exercises_lst =  ['burpees', 'jumping_jacks', 'mountain_climbers', 'pushups','squats']\n",
        "exercises_scores_dict = {exercise : [0,0] for exercise in exercises_lst}\n",
        "\n",
        "\n",
        "for exercise in exercises_lst:\n",
        "    for joint in joint_angles_list:\n",
        "        \n",
        "        X = features_df_dict[joint].iloc[:, :-1].values\n",
        "        y = features_df_dict[joint].iloc[:, -1].values\n",
        "\n",
        "        actual  = [exercise[:-5] for exercise in y]\n",
        "        predicted = [pkle_joint_model[joint].predict(X[index].reshape(1, 11))[0] for index in range(len(X)-1)]\n",
        "\n",
        "        df = pd.DataFrame(list(zip(actual, predicted)),columns =['Actual', 'Predicted'])\n",
        "        non_other_df = df[df['Actual'] != 'other']\n",
        "\n",
        "        exercise_df = non_other_df[non_other_df['Actual'] == exercise]\n",
        "        exercises_scores_dict[exercise][0] += sum(exercise_df['Actual']==exercise_df['Predicted'])\n",
        "        exercises_scores_dict[exercise][1] += len(exercise_df)\n",
        "        \n",
        " \n",
        "\n",
        "exercises_scores_dict = {key : [ round(x/value[1],2) for x in value] \n",
        "                         for key, value in exercises_scores_dict.items()}\n",
        "\n",
        "exercises_scores_df = pd.DataFrame(exercises_scores_dict).T"
      ],
      "metadata": {
        "id": "qVHMz2WtSyYE"
      },
      "execution_count": 158,
      "outputs": []
    },
    {
      "cell_type": "code",
      "source": [
        "\n",
        "plt.figure(figsize=(8,4))\n",
        "plt.bar(exercises_scores_df.index, (exercises_scores_df[0])*100)\n",
        "plt.title(\"Prediction Scores per Exercise\")\n",
        "\n",
        "plt.ylabel(\"Percent Score\")\n",
        "plt.xticks(rotation=\"35\")\n",
        "\n",
        "plt.show()"
      ],
      "metadata": {
        "colab": {
          "base_uri": "https://localhost:8080/",
          "height": 335
        },
        "id": "ib0tFTTRU2ca",
        "outputId": "b9273f4f-8eca-4a14-e55d-0fb4bd4f7d4b"
      },
      "execution_count": 165,
      "outputs": [
        {
          "output_type": "display_data",
          "data": {
            "text/plain": [
              "<Figure size 576x288 with 1 Axes>"
            ],
            "image/png": "[encoded data removed]"
          },
          "metadata": {
            "needs_background": "light"
          }
        }
      ]
    },
    {
      "cell_type": "markdown",
      "source": [
        "### Ensembling Predictions per Joint for Final Prediction"
      ],
      "metadata": {
        "id": "ggcx1hlKxlxl"
      }
    },
    {
      "cell_type": "code",
      "source": [
        "joint_votes_dict = {exercise_index : [[],''] for exercise_index in range(22)}\n",
        "\n",
        "for exercise_index in range(22):\n",
        "    for joint in joint_angles_list:\n",
        "        \n",
        "        X = features_df_dict[joint].iloc[:, :-1].values\n",
        "        y = features_df_dict[joint].iloc[:, -1].values\n",
        "\n",
        "        predicted = pkle_joint_model[joint].predict(X[exercise_index].reshape(1, 11))[0] \n",
        "        actual  = y[exercise_index][:-5]\n",
        "\n",
        "        joint_votes_dict[exercise_index][0].append(predicted) \n",
        "        joint_votes_dict[exercise_index][1]=actual\n",
        "\n",
        "    joint_votes_dict[exercise_index][0] = max(joint_votes_dict[exercise_index][0], key=joint_votes_dict[exercise_index][0].count)"
      ],
      "metadata": {
        "id": "UU96f6uvfSWS"
      },
      "execution_count": 162,
      "outputs": []
    },
    {
      "cell_type": "code",
      "source": [
        "df = pd.DataFrame(joint_votes_dict).T.rename(columns={0: \"Predicted\", 1: \"Actual\"})\n",
        "\n",
        "round(len(df[df['Predicted'] == df['Actual']])/len(df), 2)"
      ],
      "metadata": {
        "colab": {
          "base_uri": "https://localhost:8080/"
        },
        "id": "vHC1OSIWqe3A",
        "outputId": "9b7f104b-914f-4021-bb9f-70fac376f2e8"
      },
      "execution_count": 163,
      "outputs": [
        {
          "output_type": "execute_result",
          "data": {
            "text/plain": [
              "0.86"
            ]
          },
          "metadata": {},
          "execution_count": 163
        }
      ]
    },
    {
      "cell_type": "markdown",
      "source": [
        "Looks like creating a final prediction based on each individual joint's prediction is pretty good. The above prediciton when ensembling each joint's prediction is about 86% accurate on the test set.\n",
        "\n",
        "\n",
        "![apes.jpg](data:image/jpeg;base64,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)"
      ],
      "metadata": {
        "id": "yAGEGi98yBMW"
      }
    },
    {
      "cell_type": "code",
      "source": [],
      "metadata": {
        "id": "wflfXzA2y44z"
      },
      "execution_count": null,
      "outputs": []
    }
  ]
}