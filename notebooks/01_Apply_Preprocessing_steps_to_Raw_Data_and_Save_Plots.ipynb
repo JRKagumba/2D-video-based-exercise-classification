{
  "nbformat": 4,
  "nbformat_minor": 0,
  "metadata": {
    "colab": {
      "provenance": [],
      "authorship_tag": "ABX9TyPjiUDbaGU+Z17CXVqB8l1F",
      "include_colab_link": true
    },
    "kernelspec": {
      "name": "python3",
      "display_name": "Python 3"
    },
    "language_info": {
      "name": "python"
    }
  },
  "cells": [
    {
      "cell_type": "markdown",
      "metadata": {
        "id": "view-in-github",
        "colab_type": "text"
      },
      "source": [
        "<a href=\"https://colab.research.google.com/github/JRKagumba/2D-video-based-exercise-classification/blob/main/notebooks/01_Apply_Preprocessing_steps_to_Raw_Data_and_Save_Plots.ipynb\" target=\"_parent\"><img src=\"https://colab.research.google.com/assets/colab-badge.svg\" alt=\"Open In Colab\"/></a>"
      ]
    },
    {
      "cell_type": "markdown",
      "source": [
        "### Mount Drive"
      ],
      "metadata": {
        "id": "BS7dcQmoQwgu"
      }
    },
    {
      "cell_type": "code",
      "execution_count": 19,
      "metadata": {
        "colab": {
          "base_uri": "https://localhost:8080/"
        },
        "id": "9HTJyGNBQcJW",
        "outputId": "b4e0cc2d-b123-4474-bf4e-e48100c55f93"
      },
      "outputs": [
        {
          "output_type": "stream",
          "name": "stdout",
          "text": [
            "Drive already mounted at /content/gdrive; to attempt to forcibly remount, call drive.mount(\"/content/gdrive\", force_remount=True).\n"
          ]
        }
      ],
      "source": [
        "from google.colab import drive\n",
        "drive.mount('/content/gdrive')"
      ]
    },
    {
      "cell_type": "markdown",
      "source": [
        "### Import Libraries"
      ],
      "metadata": {
        "id": "XEoDL690Q1pe"
      }
    },
    {
      "cell_type": "code",
      "source": [
        "import pandas as pd\n",
        "import numpy as np\n",
        "import json\n",
        "import os\n",
        "\n",
        "import matplotlib.pyplot as plt\n",
        "import matplotlib.ticker as ticker \n",
        "\n",
        "from scipy import stats"
      ],
      "metadata": {
        "id": "qeas7QRgQ3sa"
      },
      "execution_count": 20,
      "outputs": []
    },
    {
      "cell_type": "markdown",
      "source": [
        "### Initialize Helper Functions "
      ],
      "metadata": {
        "id": "-Gqd2X9sQ9Qn"
      }
    },
    {
      "cell_type": "code",
      "source": [
        "def zeros_to_nans(df):\n",
        "    \"\"\"If keypoint is not detected, OpenPose returns 0 for undetected keypoints\"\"\"\n",
        "    df[df < 0.0001] = np.NaN\n",
        "    return df\n",
        "\n",
        "def apply_interpolation(df):\n",
        "    \"\"\"Fill in missing values\"\"\"\n",
        "    return df.apply(lambda col: col.interpolate(), axis=0)\n",
        "\n",
        "def remove_high_frequency_noise_with_rolling_window_function(df):\n",
        "    \"\"\"Apply smoothing with a Gaussian filter\"\"\"\n",
        "    return df.rolling(window=5, win_type='gaussian', center=True).mean(std=5)\n",
        "\n",
        "\n",
        "def apply_preprocessing_steps(df):\n",
        "\n",
        "    df_processed = df.copy()\n",
        "    df_processed = zeros_to_nans(df_processed)\n",
        "    df_processed = apply_interpolation(df_processed)\n",
        "    df_processed = remove_high_frequency_noise_with_rolling_window_function(df_processed)\n",
        "\n",
        "    return df_processed\n",
        "\n",
        "\n",
        "keywords_dict = {\n",
        "       0 : 'NOSE',  1 : 'NECK',  2 : 'RSHO',  3 : 'RELB',  4 : 'RWRI',\n",
        "       5 : 'LSHO',  6 : 'LELB',  7 : 'LWRI',  8 : 'MHIP',  9 : 'RHIP',\n",
        "      10 : 'RKNE', 11 : 'RANK', 12 : 'LHIP', 13 : 'LKNE', 14 : 'LANK',\n",
        "      15 : 'REYE', 16 : 'LEYE', 17 : 'REAR', 18 : 'LEAR', 19 : 'LBTO',\n",
        "      20 : 'LSTO', 21 : 'LHEL', 22 : 'RBTO', 23 : 'RSTO', 24 : 'RHEL'\n",
        "      }\n",
        "\n",
        "def save_plot_as_array_of_subplots(df, plot_name, save_path):\n",
        "    \"\"\"\n",
        "    Saves plot in path, no return type\n",
        "    Serves as a quick view of what the csv data looks like\n",
        "    \"\"\"\n",
        "    fig, axs = plt.subplots(5, 5, figsize=(25, 25), constrained_layout=True)\n",
        "\n",
        "    for ax, val in zip(axs.flat, keywords_dict.values()):\n",
        "\n",
        "        ax.set_title(f'{val}')\n",
        "        ax.set_xlabel('Time (%)', fontsize=10)\n",
        "        ax.set_ylabel(f'{val}-Position', fontsize=10)\n",
        "\n",
        "        ax.plot(df[f'{val}_X'], label=f'{val}_X')\n",
        "        ax.plot(df[f'{val}_Y'], label=f'{val}_Y')\n",
        "\n",
        "        ax.legend()\n",
        "        ax.margins(x=0.01)\n",
        "        \n",
        "        ax.xaxis.set_major_locator(ticker.MultipleLocator(len(df)/5))\n",
        "        ax.xaxis.set_minor_locator(ticker.MultipleLocator(len(df)/20))\n",
        "        ax.xaxis.set_major_formatter(ticker.PercentFormatter(xmax=len(df)))\n",
        "    \n",
        "    fig.suptitle(plot_name, fontsize=25)\n",
        "    plt.savefig(save_path)\n",
        "    plt.close(fig)"
      ],
      "metadata": {
        "id": "dbTUQdtbREgW"
      },
      "execution_count": 21,
      "outputs": []
    },
    {
      "cell_type": "markdown",
      "source": [
        "### Configure Save Paths"
      ],
      "metadata": {
        "id": "u8nEfH4qUFRc"
      }
    },
    {
      "cell_type": "code",
      "source": [
        "PROJ_SAVE_ROOT = os.path.join('/content/gdrive/MyDrive/ColabNotebooks/BiomechanicsAnalysis/___WORKOUTS/data/tests/processed')\n",
        "\n",
        "exercises_list = os.listdir(PROJ_SAVE_ROOT)\n",
        "\n",
        "for exercise_folder in exercises_list:\n",
        "    exercise_samples =  os.listdir(os.path.join(PROJ_SAVE_ROOT, exercise_folder))\n",
        "\n",
        "    print(exercise_folder)\n",
        "    for sample in exercise_samples:\n",
        "\n",
        "        print(f'\\t{sample}')\n",
        "\n",
        "        # Define paths\n",
        "        sample_csv_path = os.path.join(PROJ_SAVE_ROOT, exercise_folder, sample, f'{sample}.csv')\n",
        "        raw_plot_path = os.path.join(PROJ_SAVE_ROOT, exercise_folder, sample, f'{sample}_plot_raw.png')\n",
        "\n",
        "        processed_data_path = os.path.join(PROJ_SAVE_ROOT, exercise_folder, sample, f'{sample}_data_processed.csv')\n",
        "        processed_plot_path = os.path.join(PROJ_SAVE_ROOT, exercise_folder, sample, f'{sample}_plot_processed.png')\n",
        "\n",
        "        # Apply processing steps\n",
        "        df = pd.read_csv(sample_csv_path, index_col=0)\n",
        "        df_processed = apply_preprocessing_steps(df)\n",
        "\n",
        "        #Save data\n",
        "        save_plot_as_array_of_subplots(df, sample, raw_plot_path)\n",
        "        print(f'\\t\\t{sample:20} raw plot saved')\n",
        "\n",
        "        df_processed.to_csv(processed_data_path)  \n",
        "        print(f'\\t\\t{sample:20} processed data saved')\n",
        "\n",
        "        save_plot_as_array_of_subplots(df_processed, sample, processed_plot_path)\n",
        "        print(f'\\t\\t{sample:20} processed plot saved')"
      ],
      "metadata": {
        "colab": {
          "base_uri": "https://localhost:8080/"
        },
        "id": "R8-WbBEEUKdt",
        "outputId": "3e9ea4de-06d8-49b1-c177-39b80f52c5d6"
      },
      "execution_count": 22,
      "outputs": [
        {
          "output_type": "stream",
          "name": "stdout",
          "text": [
            "burpees_test\n",
            "\t01_burpees_test\n",
            "\t\t01_burpees_test      raw plot saved\n",
            "\t\t01_burpees_test      processed data saved\n",
            "\t\t01_burpees_test      processed plot saved\n",
            "\t02_burpees_test\n",
            "\t\t02_burpees_test      raw plot saved\n",
            "\t\t02_burpees_test      processed data saved\n",
            "\t\t02_burpees_test      processed plot saved\n",
            "\t03_burpees_test\n",
            "\t\t03_burpees_test      raw plot saved\n",
            "\t\t03_burpees_test      processed data saved\n",
            "\t\t03_burpees_test      processed plot saved\n",
            "\t04_burpees_test\n",
            "\t\t04_burpees_test      raw plot saved\n",
            "\t\t04_burpees_test      processed data saved\n",
            "\t\t04_burpees_test      processed plot saved\n",
            "\t05_burpees_test\n",
            "\t\t05_burpees_test      raw plot saved\n",
            "\t\t05_burpees_test      processed data saved\n",
            "\t\t05_burpees_test      processed plot saved\n",
            "\t06_burpees_test\n",
            "\t\t06_burpees_test      raw plot saved\n",
            "\t\t06_burpees_test      processed data saved\n",
            "\t\t06_burpees_test      processed plot saved\n",
            "\t07_burpees_test\n",
            "\t\t07_burpees_test      raw plot saved\n",
            "\t\t07_burpees_test      processed data saved\n",
            "\t\t07_burpees_test      processed plot saved\n",
            "\t08_burpees_test\n",
            "\t\t08_burpees_test      raw plot saved\n",
            "\t\t08_burpees_test      processed data saved\n",
            "\t\t08_burpees_test      processed plot saved\n",
            "jumping_jacks_test\n",
            "\t02_jumping_jacks_test\n",
            "\t\t02_jumping_jacks_test raw plot saved\n",
            "\t\t02_jumping_jacks_test processed data saved\n",
            "\t\t02_jumping_jacks_test processed plot saved\n",
            "\t01_jumping_jacks_test\n",
            "\t\t01_jumping_jacks_test raw plot saved\n",
            "\t\t01_jumping_jacks_test processed data saved\n",
            "\t\t01_jumping_jacks_test processed plot saved\n",
            "\t03_jumping_jacks_test\n",
            "\t\t03_jumping_jacks_test raw plot saved\n",
            "\t\t03_jumping_jacks_test processed data saved\n",
            "\t\t03_jumping_jacks_test processed plot saved\n",
            "other_test\n",
            "\t01_other_test\n",
            "\t\t01_other_test        raw plot saved\n",
            "\t\t01_other_test        processed data saved\n",
            "\t\t01_other_test        processed plot saved\n",
            "\t04_other_test\n",
            "\t\t04_other_test        raw plot saved\n",
            "\t\t04_other_test        processed data saved\n",
            "\t\t04_other_test        processed plot saved\n",
            "\t02_other_test\n",
            "\t\t02_other_test        raw plot saved\n",
            "\t\t02_other_test        processed data saved\n",
            "\t\t02_other_test        processed plot saved\n",
            "\t03_other_test\n",
            "\t\t03_other_test        raw plot saved\n",
            "\t\t03_other_test        processed data saved\n",
            "\t\t03_other_test        processed plot saved\n",
            "\t05_other_test\n",
            "\t\t05_other_test        raw plot saved\n",
            "\t\t05_other_test        processed data saved\n",
            "\t\t05_other_test        processed plot saved\n",
            "pushups_test\n",
            "\t01_pushups_test\n",
            "\t\t01_pushups_test      raw plot saved\n",
            "\t\t01_pushups_test      processed data saved\n",
            "\t\t01_pushups_test      processed plot saved\n",
            "\t02_pushups_test\n",
            "\t\t02_pushups_test      raw plot saved\n",
            "\t\t02_pushups_test      processed data saved\n",
            "\t\t02_pushups_test      processed plot saved\n",
            "\t03_pushups_test\n",
            "\t\t03_pushups_test      raw plot saved\n",
            "\t\t03_pushups_test      processed data saved\n",
            "\t\t03_pushups_test      processed plot saved\n",
            "squats_test\n",
            "\t01_squats_test\n",
            "\t\t01_squats_test       raw plot saved\n",
            "\t\t01_squats_test       processed data saved\n",
            "\t\t01_squats_test       processed plot saved\n",
            "\t02_squats_test\n",
            "\t\t02_squats_test       raw plot saved\n",
            "\t\t02_squats_test       processed data saved\n",
            "\t\t02_squats_test       processed plot saved\n",
            "\t03_squats_test\n",
            "\t\t03_squats_test       raw plot saved\n",
            "\t\t03_squats_test       processed data saved\n",
            "\t\t03_squats_test       processed plot saved\n",
            "\t04_squats_test\n",
            "\t\t04_squats_test       raw plot saved\n",
            "\t\t04_squats_test       processed data saved\n",
            "\t\t04_squats_test       processed plot saved\n",
            "mountain_climbers_test\n",
            "\t01_mountain_climbers_test\n",
            "\t\t01_mountain_climbers_test raw plot saved\n",
            "\t\t01_mountain_climbers_test processed data saved\n",
            "\t\t01_mountain_climbers_test processed plot saved\n",
            "\t02_mountain_climbers_test\n",
            "\t\t02_mountain_climbers_test raw plot saved\n",
            "\t\t02_mountain_climbers_test processed data saved\n",
            "\t\t02_mountain_climbers_test processed plot saved\n",
            "\t03_mountain_climbers_test\n",
            "\t\t03_mountain_climbers_test raw plot saved\n",
            "\t\t03_mountain_climbers_test processed data saved\n",
            "\t\t03_mountain_climbers_test processed plot saved\n",
            "\t04_mountain_climbers_test\n",
            "\t\t04_mountain_climbers_test raw plot saved\n",
            "\t\t04_mountain_climbers_test processed data saved\n",
            "\t\t04_mountain_climbers_test processed plot saved\n"
          ]
        }
      ]
    }
  ]
}